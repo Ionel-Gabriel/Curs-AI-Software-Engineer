{
  "nbformat": 4,
  "nbformat_minor": 0,
  "metadata": {
    "colab": {
      "provenance": []
    },
    "kernelspec": {
      "name": "python3",
      "display_name": "Python 3"
    },
    "language_info": {
      "name": "python"
    }
  },
  "cells": [
    {
      "cell_type": "markdown",
      "source": [
        "Check numpy version"
      ],
      "metadata": {
        "id": "fja24aWwcLPu"
      }
    },
    {
      "cell_type": "code",
      "execution_count": null,
      "metadata": {
        "id": "In9-kTSj7bS9"
      },
      "outputs": [],
      "source": [
        "import numpy as np"
      ]
    },
    {
      "cell_type": "code",
      "source": [
        "np.__version__"
      ],
      "metadata": {
        "colab": {
          "base_uri": "https://localhost:8080/",
          "height": 35
        },
        "id": "mcYydeVUcoHu",
        "outputId": "304596ea-b700-4865-c418-707a3c395549"
      },
      "execution_count": null,
      "outputs": [
        {
          "output_type": "execute_result",
          "data": {
            "text/plain": [
              "'1.26.4'"
            ],
            "application/vnd.google.colaboratory.intrinsic+json": {
              "type": "string"
            }
          },
          "metadata": {},
          "execution_count": 6
        }
      ]
    },
    {
      "cell_type": "code",
      "source": [
        "!pip install numpy"
      ],
      "metadata": {
        "colab": {
          "base_uri": "https://localhost:8080/"
        },
        "id": "ldt5Sp8DcUaF",
        "outputId": "1d86cacb-8e99-4693-ecdf-e559044dea14"
      },
      "execution_count": null,
      "outputs": [
        {
          "output_type": "stream",
          "name": "stdout",
          "text": [
            "Requirement already satisfied: numpy in /usr/local/lib/python3.10/dist-packages (1.26.4)\n"
          ]
        }
      ]
    },
    {
      "cell_type": "markdown",
      "source": [
        "Important to check the versions of the packages used in development of machine learning solutions!!!!\n",
        "For example library errors. Talk about them\n"
      ],
      "metadata": {
        "id": "eFYCdBmIcxrb"
      }
    },
    {
      "cell_type": "markdown",
      "source": [
        "**Numpy vs lists**"
      ],
      "metadata": {
        "id": "y8yQW7O5dvsS"
      }
    },
    {
      "cell_type": "markdown",
      "source": [
        "### Declare a list"
      ],
      "metadata": {
        "id": "-ygbJxaofExo"
      }
    },
    {
      "cell_type": "code",
      "source": [
        "l1 = [1, 2, 3, 4]\n",
        "print(l1)\n",
        "print(type(l1))"
      ],
      "metadata": {
        "colab": {
          "base_uri": "https://localhost:8080/"
        },
        "id": "QXOfGsWUcgZ_",
        "outputId": "62011a02-5584-43ed-980b-3d8e8da11f83"
      },
      "execution_count": null,
      "outputs": [
        {
          "output_type": "stream",
          "name": "stdout",
          "text": [
            "[1, 2, 3, 4]\n",
            "<class 'list'>\n"
          ]
        }
      ]
    },
    {
      "cell_type": "markdown",
      "source": [
        "### Declare an numpy array"
      ],
      "metadata": {
        "id": "v62HhsA9fIhM"
      }
    },
    {
      "cell_type": "code",
      "source": [
        "a1 = np.array([1, 2, 3, 4])\n",
        "print(a1)\n",
        "print(type(a1))"
      ],
      "metadata": {
        "colab": {
          "base_uri": "https://localhost:8080/"
        },
        "id": "kDK9AY2eeWCf",
        "outputId": "19376b30-4a68-4202-dc29-8e27d5c399be"
      },
      "execution_count": null,
      "outputs": [
        {
          "output_type": "stream",
          "name": "stdout",
          "text": [
            "[1 2 3 4]\n",
            "<class 'numpy.ndarray'>\n"
          ]
        }
      ]
    },
    {
      "cell_type": "markdown",
      "source": [
        "### Homogenous"
      ],
      "metadata": {
        "id": "Fwlgs-aRfQNR"
      }
    },
    {
      "cell_type": "code",
      "source": [
        "l2 = [1, 'ai', True, 2.1]\n",
        "print(l2)\n",
        "for element in l2:\n",
        "  print(type(element))"
      ],
      "metadata": {
        "colab": {
          "base_uri": "https://localhost:8080/"
        },
        "id": "2wVf9bBmepHi",
        "outputId": "bc576f0a-91e3-4855-bd13-f98621978818"
      },
      "execution_count": null,
      "outputs": [
        {
          "output_type": "stream",
          "name": "stdout",
          "text": [
            "[1, 'ai', True, 2.1]\n",
            "<class 'int'>\n",
            "<class 'str'>\n",
            "<class 'bool'>\n",
            "<class 'float'>\n"
          ]
        }
      ]
    },
    {
      "cell_type": "code",
      "source": [
        "a2 = np.array(l2)\n",
        "print(type(a2))\n",
        "for element in a2:\n",
        "  print(type(element))"
      ],
      "metadata": {
        "colab": {
          "base_uri": "https://localhost:8080/"
        },
        "id": "JF5xXLZHfcPe",
        "outputId": "d9247b19-ead5-4fe9-faae-9d40eb13b2b0"
      },
      "execution_count": null,
      "outputs": [
        {
          "output_type": "stream",
          "name": "stdout",
          "text": [
            "<class 'numpy.ndarray'>\n",
            "<class 'numpy.str_'>\n",
            "<class 'numpy.str_'>\n",
            "<class 'numpy.str_'>\n",
            "<class 'numpy.str_'>\n"
          ]
        }
      ]
    },
    {
      "cell_type": "markdown",
      "source": [
        "## Vectorization"
      ],
      "metadata": {
        "id": "5kFxOjutgcwz"
      }
    },
    {
      "cell_type": "code",
      "source": [
        "l1 = [1, 2, 3, 4]\n",
        "l2 = [5, 6, 7, 8]\n",
        "l3 = l1 + l2\n",
        "print(l3)"
      ],
      "metadata": {
        "colab": {
          "base_uri": "https://localhost:8080/"
        },
        "id": "E5rZtcsff-Vq",
        "outputId": "6fa21049-0b8a-46a6-d25a-1b0ff52330fc"
      },
      "execution_count": null,
      "outputs": [
        {
          "output_type": "stream",
          "name": "stdout",
          "text": [
            "[1, 2, 3, 4, 5, 6, 7, 8]\n"
          ]
        }
      ]
    },
    {
      "cell_type": "code",
      "source": [
        "l3 = []\n",
        "for index in range(len(l1)):\n",
        "  l3.append(l1[index] + l2[index])\n",
        "\n",
        "print(l3)"
      ],
      "metadata": {
        "colab": {
          "base_uri": "https://localhost:8080/"
        },
        "id": "0EHmYMDhg7xQ",
        "outputId": "0ee78a93-eea8-4d95-fde5-cc3d11172ba8"
      },
      "execution_count": null,
      "outputs": [
        {
          "output_type": "stream",
          "name": "stdout",
          "text": [
            "[6, 8, 10, 12]\n"
          ]
        }
      ]
    },
    {
      "cell_type": "code",
      "source": [
        "a1 = np.array(l1)\n",
        "a2 = np.array(l2)\n",
        "print(a1 + a2)\n",
        "print(a2 - a1)\n",
        "print(a1 * a2)\n",
        "print(a1 / a2)"
      ],
      "metadata": {
        "colab": {
          "base_uri": "https://localhost:8080/"
        },
        "id": "SovGWkAGhiiu",
        "outputId": "b2aeaac2-9b0b-4533-a21c-c8fcf92ef345"
      },
      "execution_count": null,
      "outputs": [
        {
          "output_type": "stream",
          "name": "stdout",
          "text": [
            "[ 6  8 10 12]\n",
            "[4 4 4 4]\n",
            "[ 5 12 21 32]\n",
            "[0.2        0.33333333 0.42857143 0.5       ]\n"
          ]
        }
      ]
    },
    {
      "cell_type": "markdown",
      "source": [
        "## Broadcasting"
      ],
      "metadata": {
        "id": "1HqPjR28irXx"
      }
    },
    {
      "cell_type": "code",
      "source": [
        "print(l1)\n",
        "l1 + 5"
      ],
      "metadata": {
        "colab": {
          "base_uri": "https://localhost:8080/",
          "height": 176
        },
        "id": "U37mZP6lh0sG",
        "outputId": "a4bb0de1-0f4f-4704-ef75-4ac7be508911"
      },
      "execution_count": null,
      "outputs": [
        {
          "output_type": "stream",
          "name": "stdout",
          "text": [
            "[1, 2, 3, 4]\n"
          ]
        },
        {
          "output_type": "error",
          "ename": "TypeError",
          "evalue": "can only concatenate list (not \"int\") to list",
          "traceback": [
            "\u001b[0;31m---------------------------------------------------------------------------\u001b[0m",
            "\u001b[0;31mTypeError\u001b[0m                                 Traceback (most recent call last)",
            "\u001b[0;32m<ipython-input-35-1773ffb4c83c>\u001b[0m in \u001b[0;36m<cell line: 2>\u001b[0;34m()\u001b[0m\n\u001b[1;32m      1\u001b[0m \u001b[0mprint\u001b[0m\u001b[0;34m(\u001b[0m\u001b[0ml1\u001b[0m\u001b[0;34m)\u001b[0m\u001b[0;34m\u001b[0m\u001b[0;34m\u001b[0m\u001b[0m\n\u001b[0;32m----> 2\u001b[0;31m \u001b[0ml1\u001b[0m \u001b[0;34m+\u001b[0m \u001b[0;36m5\u001b[0m\u001b[0;34m\u001b[0m\u001b[0;34m\u001b[0m\u001b[0m\n\u001b[0m",
            "\u001b[0;31mTypeError\u001b[0m: can only concatenate list (not \"int\") to list"
          ]
        }
      ]
    },
    {
      "cell_type": "code",
      "source": [
        "l2 = []\n",
        "for element in l1:\n",
        "  l2.append(element + 5)\n",
        "\n",
        "print(l2)"
      ],
      "metadata": {
        "colab": {
          "base_uri": "https://localhost:8080/"
        },
        "id": "4T1FA5tXi095",
        "outputId": "71415a61-289b-426d-95b0-dde6ef8c79c6"
      },
      "execution_count": null,
      "outputs": [
        {
          "output_type": "stream",
          "name": "stdout",
          "text": [
            "[6, 7, 8, 9]\n"
          ]
        }
      ]
    },
    {
      "cell_type": "code",
      "source": [
        "a1 = np.array(l1)\n",
        "print(a1 + 5)\n",
        "print(a1-5)\n",
        "print(a1*5)\n",
        "print(a1/5)"
      ],
      "metadata": {
        "colab": {
          "base_uri": "https://localhost:8080/"
        },
        "id": "CahvgY-BjY04",
        "outputId": "1ff1c634-d5a1-409a-ac85-fcdf57861985"
      },
      "execution_count": null,
      "outputs": [
        {
          "output_type": "stream",
          "name": "stdout",
          "text": [
            "[6 7 8 9]\n",
            "[-4 -3 -2 -1]\n",
            "[ 5 10 15 20]\n",
            "[0.2 0.4 0.6 0.8]\n"
          ]
        }
      ]
    },
    {
      "cell_type": "markdown",
      "source": [
        "## 1D array\n",
        "![image.png](data:image/png;base64,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)"
      ],
      "metadata": {
        "id": "T0jRnPZskNB1"
      }
    },
    {
      "cell_type": "code",
      "source": [
        "a1.reshape(-1, 1)"
      ],
      "metadata": {
        "colab": {
          "base_uri": "https://localhost:8080/"
        },
        "id": "DIUJYTkmjgA7",
        "outputId": "e89f4551-db09-4fb8-df6a-f76da2864b24"
      },
      "execution_count": null,
      "outputs": [
        {
          "output_type": "execute_result",
          "data": {
            "text/plain": [
              "array([[1],\n",
              "       [2],\n",
              "       [3],\n",
              "       [4]])"
            ]
          },
          "metadata": {},
          "execution_count": 43
        }
      ]
    },
    {
      "cell_type": "code",
      "source": [
        "a1[:, np.newaxis]"
      ],
      "metadata": {
        "colab": {
          "base_uri": "https://localhost:8080/"
        },
        "id": "I3jGEkg4nENd",
        "outputId": "0506889f-9b15-45f3-b484-b5d91862dd58"
      },
      "execution_count": null,
      "outputs": [
        {
          "output_type": "execute_result",
          "data": {
            "text/plain": [
              "array([[1],\n",
              "       [2],\n",
              "       [3],\n",
              "       [4]])"
            ]
          },
          "metadata": {},
          "execution_count": 44
        }
      ]
    },
    {
      "cell_type": "code",
      "source": [
        "np.expand_dims(a1, axis=1)"
      ],
      "metadata": {
        "colab": {
          "base_uri": "https://localhost:8080/"
        },
        "id": "LnMUmfxHnRUa",
        "outputId": "3b0e0d99-4302-4963-e92b-238d1674e0b7"
      },
      "execution_count": null,
      "outputs": [
        {
          "output_type": "execute_result",
          "data": {
            "text/plain": [
              "array([[1],\n",
              "       [2],\n",
              "       [3],\n",
              "       [4]])"
            ]
          },
          "metadata": {},
          "execution_count": 49
        }
      ]
    },
    {
      "cell_type": "code",
      "source": [
        "a1.shape"
      ],
      "metadata": {
        "colab": {
          "base_uri": "https://localhost:8080/"
        },
        "id": "GepcyOv8nafH",
        "outputId": "c122fadc-72ea-45d5-be4a-c2b815fa8623"
      },
      "execution_count": null,
      "outputs": [
        {
          "output_type": "execute_result",
          "data": {
            "text/plain": [
              "(4,)"
            ]
          },
          "metadata": {},
          "execution_count": 50
        }
      ]
    },
    {
      "cell_type": "code",
      "source": [
        "a2 = a1.reshape(-1, 1)\n",
        "print(a2.shape)"
      ],
      "metadata": {
        "colab": {
          "base_uri": "https://localhost:8080/"
        },
        "id": "is-4j0q9nv2l",
        "outputId": "f14bd394-0a93-43ba-c337-e8731d6b91ef"
      },
      "execution_count": null,
      "outputs": [
        {
          "output_type": "stream",
          "name": "stdout",
          "text": [
            "(4, 1)\n"
          ]
        }
      ]
    },
    {
      "cell_type": "code",
      "source": [
        "a1.size"
      ],
      "metadata": {
        "colab": {
          "base_uri": "https://localhost:8080/"
        },
        "id": "BPtdqX5Mn5U7",
        "outputId": "7ed6923d-a18c-4759-a16b-2fe2237dd75d"
      },
      "execution_count": null,
      "outputs": [
        {
          "output_type": "execute_result",
          "data": {
            "text/plain": [
              "4"
            ]
          },
          "metadata": {},
          "execution_count": 54
        }
      ]
    },
    {
      "cell_type": "code",
      "source": [
        "print(a1.ndim)"
      ],
      "metadata": {
        "colab": {
          "base_uri": "https://localhost:8080/"
        },
        "id": "BF7hDgrjoZAY",
        "outputId": "6c36848c-7c6e-4669-a7e7-ae4709533b67"
      },
      "execution_count": null,
      "outputs": [
        {
          "output_type": "stream",
          "name": "stdout",
          "text": [
            "1\n"
          ]
        }
      ]
    },
    {
      "cell_type": "markdown",
      "source": [
        "## 2D array\n",
        "![image.png](data:image/png;base64,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)\n",
        "\n",
        "Deseori cunoscut sub numele de matrice"
      ],
      "metadata": {
        "id": "vLqRqfSApU3k"
      }
    },
    {
      "cell_type": "code",
      "source": [
        "a1d = np.array([1, 2, 3, 4])\n",
        "a2d = np.array([[1, 2, 3, 4], [5, 6, 7, 8], [9, 10, 11, 12], [13, 14, 15, 16]])"
      ],
      "metadata": {
        "id": "CqpB7JxCogyQ"
      },
      "execution_count": null,
      "outputs": []
    },
    {
      "cell_type": "markdown",
      "source": [
        "* IMPORTANT!!! Lungimea fiecarei liste in initializare trebuie sa fie egala.\n",
        "* Nu se accepta initializari de forma np.array([[1, 2], [1, 2, 3], [1], [1, 2, 3, 4, 5])"
      ],
      "metadata": {
        "id": "wx9YEKaTqbKx"
      }
    },
    {
      "cell_type": "code",
      "source": [
        "a2d"
      ],
      "metadata": {
        "colab": {
          "base_uri": "https://localhost:8080/"
        },
        "id": "Enam_kEoqZze",
        "outputId": "273aa98f-bf62-4f91-fbfe-64d7acacf90a"
      },
      "execution_count": null,
      "outputs": [
        {
          "output_type": "execute_result",
          "data": {
            "text/plain": [
              "array([[1, 2, 3, 4],\n",
              "       [1, 2, 3, 4],\n",
              "       [1, 2, 3, 4],\n",
              "       [1, 2, 3, 4]])"
            ]
          },
          "metadata": {},
          "execution_count": 58
        }
      ]
    },
    {
      "cell_type": "code",
      "source": [
        "a2d.shape"
      ],
      "metadata": {
        "colab": {
          "base_uri": "https://localhost:8080/"
        },
        "id": "SaST3-OQrA6P",
        "outputId": "ef56cda9-ea77-43d8-8608-b523c52de0fd"
      },
      "execution_count": null,
      "outputs": [
        {
          "output_type": "execute_result",
          "data": {
            "text/plain": [
              "(4, 4)"
            ]
          },
          "metadata": {},
          "execution_count": 60
        }
      ]
    },
    {
      "cell_type": "code",
      "source": [
        "a2d.size"
      ],
      "metadata": {
        "colab": {
          "base_uri": "https://localhost:8080/"
        },
        "id": "LB73yHLRrE-7",
        "outputId": "60d7c761-db08-4d10-98c8-93cefeaaaf99"
      },
      "execution_count": null,
      "outputs": [
        {
          "output_type": "execute_result",
          "data": {
            "text/plain": [
              "16"
            ]
          },
          "metadata": {},
          "execution_count": 61
        }
      ]
    },
    {
      "cell_type": "markdown",
      "source": [
        "## Some types of 1d and 2d arrays and usefull generation functions"
      ],
      "metadata": {
        "id": "t_-4siaCsioT"
      }
    },
    {
      "cell_type": "code",
      "source": [
        "np.zeros(shape=3)"
      ],
      "metadata": {
        "colab": {
          "base_uri": "https://localhost:8080/"
        },
        "id": "QWHeiANdsDWz",
        "outputId": "31aa3923-7851-4bbe-cdf2-58ca23516e88"
      },
      "execution_count": null,
      "outputs": [
        {
          "output_type": "execute_result",
          "data": {
            "text/plain": [
              "array([0., 0., 0.])"
            ]
          },
          "metadata": {},
          "execution_count": 62
        }
      ]
    },
    {
      "cell_type": "code",
      "source": [
        "np.zeros(shape= (2, 3))"
      ],
      "metadata": {
        "colab": {
          "base_uri": "https://localhost:8080/"
        },
        "id": "bsjhPrR4so28",
        "outputId": "f77ca32a-88c7-4055-976d-31920a73cda5"
      },
      "execution_count": null,
      "outputs": [
        {
          "output_type": "execute_result",
          "data": {
            "text/plain": [
              "array([[0., 0., 0.],\n",
              "       [0., 0., 0.]])"
            ]
          },
          "metadata": {},
          "execution_count": 63
        }
      ]
    },
    {
      "cell_type": "code",
      "source": [
        "np.ones(shape=(2, 3))"
      ],
      "metadata": {
        "colab": {
          "base_uri": "https://localhost:8080/"
        },
        "id": "R77Y5ifmsr3B",
        "outputId": "1d36b4a5-c886-445a-96e1-f0c89ff6dae4"
      },
      "execution_count": null,
      "outputs": [
        {
          "output_type": "execute_result",
          "data": {
            "text/plain": [
              "array([[1., 1., 1.],\n",
              "       [1., 1., 1.]])"
            ]
          },
          "metadata": {},
          "execution_count": 64
        }
      ]
    },
    {
      "cell_type": "code",
      "source": [
        "np.full(shape= (2, 3), fill_value = 4)"
      ],
      "metadata": {
        "colab": {
          "base_uri": "https://localhost:8080/"
        },
        "id": "UarOME80swbH",
        "outputId": "0060e9a4-1707-4ef8-a435-11f801efa942"
      },
      "execution_count": null,
      "outputs": [
        {
          "output_type": "execute_result",
          "data": {
            "text/plain": [
              "array([[4, 4, 4],\n",
              "       [4, 4, 4]])"
            ]
          },
          "metadata": {},
          "execution_count": 65
        }
      ]
    },
    {
      "cell_type": "code",
      "source": [
        "np.zeros_like(a = a2d)"
      ],
      "metadata": {
        "colab": {
          "base_uri": "https://localhost:8080/"
        },
        "id": "D5YA1rLhs2Lh",
        "outputId": "bdfc0444-0b15-4db0-e03f-18eb13774c83"
      },
      "execution_count": null,
      "outputs": [
        {
          "output_type": "execute_result",
          "data": {
            "text/plain": [
              "array([[0, 0, 0, 0],\n",
              "       [0, 0, 0, 0],\n",
              "       [0, 0, 0, 0],\n",
              "       [0, 0, 0, 0]])"
            ]
          },
          "metadata": {},
          "execution_count": 66
        }
      ]
    },
    {
      "cell_type": "code",
      "source": [
        "np.ones_like(a = a2d)"
      ],
      "metadata": {
        "colab": {
          "base_uri": "https://localhost:8080/"
        },
        "id": "ntVAYi1gtHpR",
        "outputId": "299ba052-f932-4c51-ad34-c63cbde299f5"
      },
      "execution_count": null,
      "outputs": [
        {
          "output_type": "execute_result",
          "data": {
            "text/plain": [
              "array([[1, 1, 1, 1],\n",
              "       [1, 1, 1, 1],\n",
              "       [1, 1, 1, 1],\n",
              "       [1, 1, 1, 1]])"
            ]
          },
          "metadata": {},
          "execution_count": 67
        }
      ]
    },
    {
      "cell_type": "code",
      "source": [
        "np.full_like(a=a2d, fill_value=2)"
      ],
      "metadata": {
        "colab": {
          "base_uri": "https://localhost:8080/"
        },
        "id": "DikfQuHetK3u",
        "outputId": "f8b852f6-e422-459d-d493-b5cc516fc2bc"
      },
      "execution_count": null,
      "outputs": [
        {
          "output_type": "execute_result",
          "data": {
            "text/plain": [
              "array([[2, 2, 2, 2],\n",
              "       [2, 2, 2, 2],\n",
              "       [2, 2, 2, 2],\n",
              "       [2, 2, 2, 2]])"
            ]
          },
          "metadata": {},
          "execution_count": 68
        }
      ]
    },
    {
      "cell_type": "code",
      "source": [
        "np.eye(N=5)"
      ],
      "metadata": {
        "colab": {
          "base_uri": "https://localhost:8080/"
        },
        "id": "XTv1I_-KtQpU",
        "outputId": "694cfe44-50a0-4858-8bd4-ff988cf3094f"
      },
      "execution_count": null,
      "outputs": [
        {
          "output_type": "execute_result",
          "data": {
            "text/plain": [
              "array([[1., 0., 0., 0., 0.],\n",
              "       [0., 1., 0., 0., 0.],\n",
              "       [0., 0., 1., 0., 0.],\n",
              "       [0., 0., 0., 1., 0.],\n",
              "       [0., 0., 0., 0., 1.]])"
            ]
          },
          "metadata": {},
          "execution_count": 69
        }
      ]
    },
    {
      "cell_type": "code",
      "source": [
        "np.eye(N=5, M=3)"
      ],
      "metadata": {
        "colab": {
          "base_uri": "https://localhost:8080/"
        },
        "id": "jIaYnlZEtWA8",
        "outputId": "92f7d9e5-cb88-452a-9324-d6b24628aa98"
      },
      "execution_count": null,
      "outputs": [
        {
          "output_type": "execute_result",
          "data": {
            "text/plain": [
              "array([[1., 0., 0.],\n",
              "       [0., 1., 0.],\n",
              "       [0., 0., 1.],\n",
              "       [0., 0., 0.],\n",
              "       [0., 0., 0.]])"
            ]
          },
          "metadata": {},
          "execution_count": 70
        }
      ]
    },
    {
      "cell_type": "code",
      "source": [
        "np.identity(n=5)"
      ],
      "metadata": {
        "colab": {
          "base_uri": "https://localhost:8080/"
        },
        "id": "Of3zw-3CuQbT",
        "outputId": "9750632b-6c79-41f5-a912-a21489188d6b"
      },
      "execution_count": null,
      "outputs": [
        {
          "output_type": "execute_result",
          "data": {
            "text/plain": [
              "array([[1., 0., 0., 0., 0.],\n",
              "       [0., 1., 0., 0., 0.],\n",
              "       [0., 0., 1., 0., 0.],\n",
              "       [0., 0., 0., 1., 0.],\n",
              "       [0., 0., 0., 0., 1.]])"
            ]
          },
          "metadata": {},
          "execution_count": 71
        }
      ]
    },
    {
      "cell_type": "code",
      "source": [
        "np.arange(stop=10)"
      ],
      "metadata": {
        "colab": {
          "base_uri": "https://localhost:8080/"
        },
        "id": "71RSsZiEuU0J",
        "outputId": "73c83e83-3f00-4605-f9df-75d59015b37e"
      },
      "execution_count": null,
      "outputs": [
        {
          "output_type": "execute_result",
          "data": {
            "text/plain": [
              "array([0, 1, 2, 3, 4, 5, 6, 7, 8, 9])"
            ]
          },
          "metadata": {},
          "execution_count": 73
        }
      ]
    },
    {
      "cell_type": "code",
      "source": [
        "np.arange(start=3, stop=10)"
      ],
      "metadata": {
        "colab": {
          "base_uri": "https://localhost:8080/"
        },
        "id": "MUKA44EwuhpA",
        "outputId": "8498fe1e-7456-4f52-d17d-f277cd669849"
      },
      "execution_count": null,
      "outputs": [
        {
          "output_type": "execute_result",
          "data": {
            "text/plain": [
              "array([3, 4, 5, 6, 7, 8, 9])"
            ]
          },
          "metadata": {},
          "execution_count": 74
        }
      ]
    },
    {
      "cell_type": "code",
      "source": [
        "np.arange(start=3, stop=10, step=3)"
      ],
      "metadata": {
        "colab": {
          "base_uri": "https://localhost:8080/"
        },
        "id": "IgKFZMjBun0D",
        "outputId": "09b5637f-884e-489e-b1f0-e664ee45e633"
      },
      "execution_count": null,
      "outputs": [
        {
          "output_type": "execute_result",
          "data": {
            "text/plain": [
              "array([3, 6, 9])"
            ]
          },
          "metadata": {},
          "execution_count": 76
        }
      ]
    },
    {
      "cell_type": "code",
      "source": [
        "np.arange(start=10, stop=3, step=-2)"
      ],
      "metadata": {
        "colab": {
          "base_uri": "https://localhost:8080/"
        },
        "id": "_MTuLJHfuwvh",
        "outputId": "7baab4a0-d89f-465b-9a0e-8f80216e8e2b"
      },
      "execution_count": null,
      "outputs": [
        {
          "output_type": "execute_result",
          "data": {
            "text/plain": [
              "array([10,  8,  6,  4])"
            ]
          },
          "metadata": {},
          "execution_count": 77
        }
      ]
    },
    {
      "cell_type": "code",
      "source": [
        "np.arange(start=3, stop=5, step=0.25)"
      ],
      "metadata": {
        "colab": {
          "base_uri": "https://localhost:8080/"
        },
        "id": "MUD24r-yvNDL",
        "outputId": "4c932879-09a8-41b5-b2f7-bfb84e1fee4f"
      },
      "execution_count": null,
      "outputs": [
        {
          "output_type": "execute_result",
          "data": {
            "text/plain": [
              "array([3.  , 3.25, 3.5 , 3.75, 4.  , 4.25, 4.5 , 4.75])"
            ]
          },
          "metadata": {},
          "execution_count": 79
        }
      ]
    },
    {
      "cell_type": "code",
      "source": [
        "np.linspace(start=1, stop=10, num=4)"
      ],
      "metadata": {
        "colab": {
          "base_uri": "https://localhost:8080/"
        },
        "id": "liibGLvVvpOa",
        "outputId": "13076a02-15a9-46bd-c967-8a62db46aa68"
      },
      "execution_count": null,
      "outputs": [
        {
          "output_type": "execute_result",
          "data": {
            "text/plain": [
              "array([ 1.,  4.,  7., 10.])"
            ]
          },
          "metadata": {},
          "execution_count": 80
        }
      ]
    },
    {
      "cell_type": "code",
      "source": [
        "np.linspace(start=1, stop=10, num=7)"
      ],
      "metadata": {
        "colab": {
          "base_uri": "https://localhost:8080/"
        },
        "id": "VzgcwLy-wPLN",
        "outputId": "dc0f1ed7-c93f-4bee-d5c9-e2c824c30617"
      },
      "execution_count": null,
      "outputs": [
        {
          "output_type": "execute_result",
          "data": {
            "text/plain": [
              "array([ 1. ,  2.5,  4. ,  5.5,  7. ,  8.5, 10. ])"
            ]
          },
          "metadata": {},
          "execution_count": 81
        }
      ]
    },
    {
      "cell_type": "code",
      "source": [
        "np.logspace(start=1, stop=4, num=4)"
      ],
      "metadata": {
        "colab": {
          "base_uri": "https://localhost:8080/"
        },
        "id": "JPbn9VX8wVRh",
        "outputId": "fe64e02e-083c-4271-e32d-a7420f1de5fd"
      },
      "execution_count": null,
      "outputs": [
        {
          "output_type": "execute_result",
          "data": {
            "text/plain": [
              "array([   10.,   100.,  1000., 10000.])"
            ]
          },
          "metadata": {},
          "execution_count": 83
        }
      ]
    },
    {
      "cell_type": "markdown",
      "source": [
        "## Indexing and slicing"
      ],
      "metadata": {
        "id": "OcGDNnZu0d83"
      }
    },
    {
      "cell_type": "code",
      "source": [
        "print(a1d)\n",
        "print(\"----------------\")\n",
        "print(a2d)"
      ],
      "metadata": {
        "colab": {
          "base_uri": "https://localhost:8080/"
        },
        "id": "u7hhxvvO1UPp",
        "outputId": "e14a2539-79b7-4573-f3ed-c1069c6526c3"
      },
      "execution_count": null,
      "outputs": [
        {
          "output_type": "stream",
          "name": "stdout",
          "text": [
            "[  1 100 200 300]\n",
            "----------------\n",
            "[[  1   2   3   4]\n",
            " [  5   6   7   8]\n",
            " [  9  10 150  12]\n",
            " [ 13  14  15  16]]\n"
          ]
        }
      ]
    },
    {
      "cell_type": "code",
      "source": [
        "print(a1d[0])\n",
        "print(a2d[0])\n",
        "print(a2d[:, 0])"
      ],
      "metadata": {
        "colab": {
          "base_uri": "https://localhost:8080/"
        },
        "id": "Purlwl57woCb",
        "outputId": "c583ecb7-03c0-4119-81b1-23d0ffaa170c"
      },
      "execution_count": null,
      "outputs": [
        {
          "output_type": "stream",
          "name": "stdout",
          "text": [
            "1\n",
            "[1 2 3 4]\n",
            "[1 1 1 1]\n"
          ]
        }
      ]
    },
    {
      "cell_type": "code",
      "source": [
        "print(a1d[1:3])\n",
        "print(a1d[2:])"
      ],
      "metadata": {
        "colab": {
          "base_uri": "https://localhost:8080/"
        },
        "id": "DnF8F5jx0llR",
        "outputId": "4edff2e9-2b29-481c-b425-0410f1598914"
      },
      "execution_count": null,
      "outputs": [
        {
          "output_type": "stream",
          "name": "stdout",
          "text": [
            "[2 3]\n",
            "[3 4]\n"
          ]
        }
      ]
    },
    {
      "cell_type": "code",
      "source": [
        "print(a2d[2, :])\n",
        "print(a2d[:2, 1:3])"
      ],
      "metadata": {
        "colab": {
          "base_uri": "https://localhost:8080/"
        },
        "id": "S2kF6twq2Twp",
        "outputId": "8e72280a-7f95-4bcc-bb60-91bcebe405c2"
      },
      "execution_count": null,
      "outputs": [
        {
          "output_type": "stream",
          "name": "stdout",
          "text": [
            "[ 9 10 11 12]\n",
            "[[2 3]\n",
            " [6 7]]\n"
          ]
        }
      ]
    },
    {
      "cell_type": "markdown",
      "source": [
        "## Assigning"
      ],
      "metadata": {
        "id": "zIAeMiH1RSWu"
      }
    },
    {
      "cell_type": "code",
      "source": [
        "a1d[1] = 100\n",
        "print(a1d)"
      ],
      "metadata": {
        "colab": {
          "base_uri": "https://localhost:8080/"
        },
        "id": "VhdXafc52QSf",
        "outputId": "62eb3d1c-7c3d-4700-dc7d-7ccb964c82e9"
      },
      "execution_count": null,
      "outputs": [
        {
          "output_type": "stream",
          "name": "stdout",
          "text": [
            "[  1 100   3   4]\n"
          ]
        }
      ]
    },
    {
      "cell_type": "code",
      "source": [
        "a1d[2:4] = [200, 300]\n",
        "print(a1d)"
      ],
      "metadata": {
        "colab": {
          "base_uri": "https://localhost:8080/"
        },
        "id": "o59FzZDRRW0j",
        "outputId": "cb2e8928-b1de-4da2-bf0f-e01e0de840aa"
      },
      "execution_count": null,
      "outputs": [
        {
          "output_type": "stream",
          "name": "stdout",
          "text": [
            "[  1 100 200 300]\n"
          ]
        }
      ]
    },
    {
      "cell_type": "code",
      "source": [
        "a2d[2][2] = 150\n",
        "print(a2d)"
      ],
      "metadata": {
        "colab": {
          "base_uri": "https://localhost:8080/"
        },
        "id": "IewxFjvgRg-j",
        "outputId": "fe2d03da-116c-4bbc-9e4c-cb35584de775"
      },
      "execution_count": null,
      "outputs": [
        {
          "output_type": "stream",
          "name": "stdout",
          "text": [
            "[[  1   2   3   4]\n",
            " [  5   6   7   8]\n",
            " [  9  10 150  12]\n",
            " [ 13  14  15  16]]\n"
          ]
        }
      ]
    },
    {
      "cell_type": "code",
      "source": [
        "a2d[1:3, 0:2] = np.array([[50, 60], [90, 100]])\n",
        "print(a2d)"
      ],
      "metadata": {
        "colab": {
          "base_uri": "https://localhost:8080/"
        },
        "id": "XFuXAM6mRwtl",
        "outputId": "f69d85d3-6b34-4341-890a-12c093101dcf"
      },
      "execution_count": null,
      "outputs": [
        {
          "output_type": "stream",
          "name": "stdout",
          "text": [
            "[[  1   2   3   4]\n",
            " [ 50  60   7   8]\n",
            " [ 90 100 150  12]\n",
            " [ 13  14  15  16]]\n"
          ]
        }
      ]
    },
    {
      "cell_type": "markdown",
      "source": [
        "## Copy"
      ],
      "metadata": {
        "id": "hWr8x8f0TT03"
      }
    },
    {
      "cell_type": "code",
      "source": [
        "example = a2d"
      ],
      "metadata": {
        "id": "Dx3rmmoRR8GR"
      },
      "execution_count": null,
      "outputs": []
    },
    {
      "cell_type": "code",
      "source": [
        "example"
      ],
      "metadata": {
        "colab": {
          "base_uri": "https://localhost:8080/"
        },
        "id": "kQVhVD6uS0qy",
        "outputId": "d71c2991-ea70-4d33-d555-c71d767480d4"
      },
      "execution_count": null,
      "outputs": [
        {
          "output_type": "execute_result",
          "data": {
            "text/plain": [
              "array([[-100,    2,    3,    4],\n",
              "       [  50,   60,    7,    8],\n",
              "       [  90,  100,  150,   12],\n",
              "       [  13,   14,   15,   16]])"
            ]
          },
          "metadata": {},
          "execution_count": 116
        }
      ]
    },
    {
      "cell_type": "code",
      "source": [
        "a2d[0,0] = -100"
      ],
      "metadata": {
        "id": "M7n3KSIQS2yr"
      },
      "execution_count": null,
      "outputs": []
    },
    {
      "cell_type": "code",
      "source": [
        "example = a2d.copy()\n",
        "print(example)"
      ],
      "metadata": {
        "colab": {
          "base_uri": "https://localhost:8080/"
        },
        "id": "M_ShYdNxTO-_",
        "outputId": "2d267ab3-487f-40b6-f4cf-27bbb806ac45"
      },
      "execution_count": null,
      "outputs": [
        {
          "output_type": "stream",
          "name": "stdout",
          "text": [
            "[[-100    2    3    4]\n",
            " [  50   60    7    8]\n",
            " [  90  100  150   12]\n",
            " [  13   14   15   16]]\n"
          ]
        }
      ]
    },
    {
      "cell_type": "code",
      "source": [
        "a2d[0, 0] = -50"
      ],
      "metadata": {
        "id": "zW1zBKeITltC"
      },
      "execution_count": null,
      "outputs": []
    },
    {
      "cell_type": "code",
      "source": [
        "print(\"a2d: \", a2d)\n",
        "print(\"example: \", example)"
      ],
      "metadata": {
        "colab": {
          "base_uri": "https://localhost:8080/"
        },
        "id": "DmUqbrFtT2Zn",
        "outputId": "b99da24f-0918-4d82-c594-660063086898"
      },
      "execution_count": null,
      "outputs": [
        {
          "output_type": "stream",
          "name": "stdout",
          "text": [
            "a2d:  [[-50   2   3   4]\n",
            " [ 50  60   7   8]\n",
            " [ 90 100 150  12]\n",
            " [ 13  14  15  16]]\n",
            "example:  [[-100    2    3    4]\n",
            " [  50   60    7    8]\n",
            " [  90  100  150   12]\n",
            " [  13   14   15   16]]\n"
          ]
        }
      ]
    },
    {
      "cell_type": "markdown",
      "source": [
        "## Transpose"
      ],
      "metadata": {
        "id": "M_Grjh4eUIY2"
      }
    },
    {
      "cell_type": "code",
      "source": [
        "a2d.transpose()"
      ],
      "metadata": {
        "colab": {
          "base_uri": "https://localhost:8080/"
        },
        "id": "mSdIWyIVT_kx",
        "outputId": "e0dfddb3-f432-4e22-8b6e-644dfd6e2d69"
      },
      "execution_count": null,
      "outputs": [
        {
          "output_type": "execute_result",
          "data": {
            "text/plain": [
              "array([[-50,  50,  90,  13],\n",
              "       [  2,  60, 100,  14],\n",
              "       [  3,   7, 150,  15],\n",
              "       [  4,   8,  12,  16]])"
            ]
          },
          "metadata": {},
          "execution_count": 120
        }
      ]
    },
    {
      "cell_type": "markdown",
      "source": [
        "## Flatten"
      ],
      "metadata": {
        "id": "9I9Aup00Vbtu"
      }
    },
    {
      "cell_type": "code",
      "source": [
        "a2d.flatten()"
      ],
      "metadata": {
        "colab": {
          "base_uri": "https://localhost:8080/"
        },
        "id": "wZrkxaF4VLK6",
        "outputId": "b19bf7d7-5b1a-416d-d31d-77bacc3de4b6"
      },
      "execution_count": null,
      "outputs": [
        {
          "output_type": "execute_result",
          "data": {
            "text/plain": [
              "array([-50,   2,   3,   4,  50,  60,   7,   8,  90, 100, 150,  12,  13,\n",
              "        14,  15,  16])"
            ]
          },
          "metadata": {},
          "execution_count": 122
        }
      ]
    },
    {
      "cell_type": "markdown",
      "source": [
        "## Sort"
      ],
      "metadata": {
        "id": "vd_FGcIZVgy_"
      }
    },
    {
      "cell_type": "code",
      "source": [
        "a1d.sort()\n",
        "print(a1d)\n",
        "print(a1d[::-1])\n",
        "print(np.flip(a1d))"
      ],
      "metadata": {
        "colab": {
          "base_uri": "https://localhost:8080/"
        },
        "id": "oEvMS8biVe-p",
        "outputId": "e7502600-6295-4098-cc0b-9b546a3b7d02"
      },
      "execution_count": null,
      "outputs": [
        {
          "output_type": "stream",
          "name": "stdout",
          "text": [
            "[  1 100 200 300]\n",
            "[300 200 100   1]\n",
            "[300 200 100   1]\n"
          ]
        }
      ]
    },
    {
      "cell_type": "code",
      "source": [
        "print(a2d)\n",
        "a2d.sort(axis=0)\n",
        "print(a2d)\n",
        "a2d.sort(axis=1)\n",
        "print(a2d)"
      ],
      "metadata": {
        "colab": {
          "base_uri": "https://localhost:8080/"
        },
        "id": "MG-5xa3YVteV",
        "outputId": "25129f3d-eb8c-4cc4-9b12-748c5498a43b"
      },
      "execution_count": null,
      "outputs": [
        {
          "output_type": "stream",
          "name": "stdout",
          "text": [
            "[[-50   2   3   4]\n",
            " [  7   8  13  14]\n",
            " [ 12  15  50  60]\n",
            " [ 16  90 100 150]]\n",
            "[[-50   2   3   4]\n",
            " [  7   8  13  14]\n",
            " [ 12  15  50  60]\n",
            " [ 16  90 100 150]]\n",
            "[[-50   2   3   4]\n",
            " [  7   8  13  14]\n",
            " [ 12  15  50  60]\n",
            " [ 16  90 100 150]]\n"
          ]
        }
      ]
    },
    {
      "cell_type": "markdown",
      "source": [
        "## Diagonal"
      ],
      "metadata": {
        "id": "FW4MxQTZYFh8"
      }
    },
    {
      "cell_type": "code",
      "source": [
        "a2d.diagonal()"
      ],
      "metadata": {
        "colab": {
          "base_uri": "https://localhost:8080/"
        },
        "id": "6buZ4WPmXUf8",
        "outputId": "4b66b8c9-34e2-49a1-be2a-39444e59276b"
      },
      "execution_count": null,
      "outputs": [
        {
          "output_type": "execute_result",
          "data": {
            "text/plain": [
              "array([-50,   8,  50, 150])"
            ]
          },
          "metadata": {},
          "execution_count": 131
        }
      ]
    },
    {
      "cell_type": "markdown",
      "source": [
        "## Veti vedea ca in spatele unor procese de deep learning va trebui sa aflam valorile proprii ale unei matrici sau al unui sistem liniar. Acele valori se vor afla pe diagonala coloanei rezultat."
      ],
      "metadata": {
        "id": "1yJOQv8gYPAJ"
      }
    },
    {
      "cell_type": "markdown",
      "source": [
        "## Metode de calcul"
      ],
      "metadata": {
        "id": "gMnJuCbzYlBt"
      }
    },
    {
      "cell_type": "code",
      "source": [
        "print(a1d)\n",
        "print('------------------')\n",
        "print(a2d)"
      ],
      "metadata": {
        "colab": {
          "base_uri": "https://localhost:8080/"
        },
        "id": "espUtU3wa_83",
        "outputId": "ff05c6f9-81b9-49c3-940a-d438e2c0cfb2"
      },
      "execution_count": null,
      "outputs": [
        {
          "output_type": "stream",
          "name": "stdout",
          "text": [
            "[  1 100 200 300]\n",
            "------------------\n",
            "[[-50   2   3   4]\n",
            " [  7   8  13  14]\n",
            " [ 12  15  50  60]\n",
            " [ 16  90 100 150]]\n"
          ]
        }
      ]
    },
    {
      "cell_type": "code",
      "source": [
        "print(a1d.max())\n",
        "print(a2d.max())"
      ],
      "metadata": {
        "colab": {
          "base_uri": "https://localhost:8080/"
        },
        "id": "SsGEuZEaYJlQ",
        "outputId": "7475f8de-0dfc-418a-b672-68ad3c6edac4"
      },
      "execution_count": null,
      "outputs": [
        {
          "output_type": "stream",
          "name": "stdout",
          "text": [
            "300\n",
            "150\n"
          ]
        }
      ]
    },
    {
      "cell_type": "code",
      "source": [
        "print(a2d.max(axis=0))\n",
        "print(a2d.max(axis=1))\n"
      ],
      "metadata": {
        "colab": {
          "base_uri": "https://localhost:8080/"
        },
        "id": "wKDfgcHQavwC",
        "outputId": "14c1fab2-1ce2-4fac-a97f-d0607a92bb34"
      },
      "execution_count": null,
      "outputs": [
        {
          "output_type": "stream",
          "name": "stdout",
          "text": [
            "[ 16  90 100 150]\n",
            "[  4  14  60 150]\n"
          ]
        }
      ]
    },
    {
      "cell_type": "markdown",
      "source": [
        "* Asemanator cu max este si argmax(), care in loc sa returneze valorile maxime, returneaza indecsii la care se gasesc valorile maxime"
      ],
      "metadata": {
        "id": "-VprhGuhbTGN"
      }
    },
    {
      "cell_type": "code",
      "source": [
        "print(a1d.min())\n",
        "print(a2d.min())"
      ],
      "metadata": {
        "colab": {
          "base_uri": "https://localhost:8080/"
        },
        "id": "f5rNU8Cmax6z",
        "outputId": "e6917d0a-8686-4343-8f03-07c78a6f8193"
      },
      "execution_count": null,
      "outputs": [
        {
          "output_type": "stream",
          "name": "stdout",
          "text": [
            "1\n",
            "-50\n"
          ]
        }
      ]
    },
    {
      "cell_type": "code",
      "source": [
        "print(a2d.min(axis=0))\n",
        "print(a2d.min(axis=1))"
      ],
      "metadata": {
        "colab": {
          "base_uri": "https://localhost:8080/"
        },
        "id": "sN7Flb58bgR5",
        "outputId": "ac9db11d-ea3a-42dc-9192-cdc527eb3682"
      },
      "execution_count": null,
      "outputs": [
        {
          "output_type": "stream",
          "name": "stdout",
          "text": [
            "[-50   2   3   4]\n",
            "[-50   7  12  16]\n"
          ]
        }
      ]
    },
    {
      "cell_type": "markdown",
      "source": [
        "* Asemanator cu min este si argmin(), care in loc sa returneze valorile minime, returneaza indecsii la care se gasesc valorile minime"
      ],
      "metadata": {
        "id": "cDyN5bRQbo4c"
      }
    },
    {
      "cell_type": "markdown",
      "source": [
        "## Peak to peak -> Max - min pe axe"
      ],
      "metadata": {
        "id": "v0xLq7BtdA2i"
      }
    },
    {
      "cell_type": "code",
      "source": [
        "print(a2d)\n",
        "print(\"PTP value: \", a2d.ptp(axis=0))"
      ],
      "metadata": {
        "colab": {
          "base_uri": "https://localhost:8080/"
        },
        "id": "SpBESvxDbjSK",
        "outputId": "802075fa-f77e-4fb8-bf2e-ee65a3173676"
      },
      "execution_count": null,
      "outputs": [
        {
          "output_type": "stream",
          "name": "stdout",
          "text": [
            "[[-50   2   3   4]\n",
            " [  7   8  13  14]\n",
            " [ 12  15  50  60]\n",
            " [ 16  90 100 150]]\n",
            "PTP value:  [ 66  88  97 146]\n"
          ]
        }
      ]
    },
    {
      "cell_type": "markdown",
      "source": [
        "## Sum"
      ],
      "metadata": {
        "id": "mB73K1KhfyAH"
      }
    },
    {
      "cell_type": "code",
      "source": [
        "print(a2d.sum())\n",
        "print(a2d.sum(axis=0))\n",
        "print(a2d.sum(axis=1))"
      ],
      "metadata": {
        "colab": {
          "base_uri": "https://localhost:8080/"
        },
        "id": "tspcmahFdKCC",
        "outputId": "330e43be-b02d-4c3e-8011-c986fe6ee810"
      },
      "execution_count": null,
      "outputs": [
        {
          "output_type": "stream",
          "name": "stdout",
          "text": [
            "486\n",
            "[-15 107 166 228]\n",
            "[-41  34 137 356]\n"
          ]
        }
      ]
    },
    {
      "cell_type": "markdown",
      "source": [
        "## Cumsum -> Folosita deseori in prelucrarea seriilor de timp si in reinforcement learning"
      ],
      "metadata": {
        "id": "0VaF3Vt8gVlq"
      }
    },
    {
      "cell_type": "code",
      "source": [
        "print(a2d)"
      ],
      "metadata": {
        "colab": {
          "base_uri": "https://localhost:8080/"
        },
        "id": "ZzaV_MtDhzc7",
        "outputId": "f478ae0a-0bc4-41ba-870a-f6c760f4d25d"
      },
      "execution_count": null,
      "outputs": [
        {
          "output_type": "stream",
          "name": "stdout",
          "text": [
            "[[-50   2   3   4]\n",
            " [  7   0  13  14]\n",
            " [ 12  15  50  60]\n",
            " [ 16  90 100 150]]\n"
          ]
        }
      ]
    },
    {
      "cell_type": "code",
      "source": [
        "print(a2d.cumsum())\n",
        "print(\"------------\")\n",
        "print(a2d.cumsum(axis=0))\n",
        "print(\"------------\")\n",
        "print(a2d.cumsum(axis=1))"
      ],
      "metadata": {
        "colab": {
          "base_uri": "https://localhost:8080/"
        },
        "id": "X3YtOawFf5-B",
        "outputId": "38fcfe4c-9c39-4295-dfc0-d736cd86e3be"
      },
      "execution_count": null,
      "outputs": [
        {
          "output_type": "stream",
          "name": "stdout",
          "text": [
            "[-50 -48 -45 -41 -34 -34 -21  -7   5  20  70 130 146 236 336 486]\n",
            "------------\n",
            "[[-50   2   3   4]\n",
            " [-43   2  16  18]\n",
            " [-31  17  66  78]\n",
            " [-15 107 166 228]]\n",
            "------------\n",
            "[[-50 -48 -45 -41]\n",
            " [  7   7  20  34]\n",
            " [ 12  27  77 137]\n",
            " [ 16 106 206 356]]\n"
          ]
        }
      ]
    },
    {
      "cell_type": "markdown",
      "source": [
        "## Medie"
      ],
      "metadata": {
        "id": "RQcTOL1dhaII"
      }
    },
    {
      "cell_type": "code",
      "source": [
        "print(a2d)\n",
        "print(\"--------------\")\n",
        "print(a2d.mean())\n",
        "print(\"--------------\")\n",
        "print(a2d.mean(axis=0))\n",
        "print(\"--------------\")\n",
        "print(a2d.mean(axis=1))"
      ],
      "metadata": {
        "colab": {
          "base_uri": "https://localhost:8080/"
        },
        "id": "7v4mCC9egjtk",
        "outputId": "5d082ca7-6428-49f3-f91d-21f157174e90"
      },
      "execution_count": null,
      "outputs": [
        {
          "output_type": "stream",
          "name": "stdout",
          "text": [
            "[[-50   2   3   4]\n",
            " [  7   0  13  14]\n",
            " [ 12  15  50  60]\n",
            " [ 16  90 100 150]]\n",
            "--------------\n",
            "30.375\n",
            "--------------\n",
            "[-3.75 26.75 41.5  57.  ]\n",
            "--------------\n",
            "[-10.25   8.5   34.25  89.  ]\n"
          ]
        }
      ]
    },
    {
      "cell_type": "markdown",
      "source": [
        "## Varianta\n",
        "![image.png](data:image/png;base64,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)"
      ],
      "metadata": {
        "id": "nvZ0wjaGi4Ak"
      }
    },
    {
      "cell_type": "code",
      "source": [
        "a2d.var() ## Analog cu media si suma pentru linii si pentru coloane"
      ],
      "metadata": {
        "colab": {
          "base_uri": "https://localhost:8080/"
        },
        "id": "r1kebxLCiFa-",
        "outputId": "26f1c8d3-88d1-4ae1-87d4-5800995f39b6"
      },
      "execution_count": null,
      "outputs": [
        {
          "output_type": "execute_result",
          "data": {
            "text/plain": [
              "2219.109375"
            ]
          },
          "metadata": {},
          "execution_count": 147
        }
      ]
    },
    {
      "cell_type": "markdown",
      "source": [
        "## Deviatia standard\n",
        "![image.png](data:image/png;base64,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)"
      ],
      "metadata": {
        "id": "6xbLX-azjMyj"
      }
    },
    {
      "cell_type": "code",
      "source": [
        "a2d.std() ## Analog cu media si suma pentru linii si pentru coloane"
      ],
      "metadata": {
        "colab": {
          "base_uri": "https://localhost:8080/"
        },
        "id": "JtGOgALljBvP",
        "outputId": "f4b4d504-3eeb-4c1a-8ce1-3f0ee0734182"
      },
      "execution_count": null,
      "outputs": [
        {
          "output_type": "execute_result",
          "data": {
            "text/plain": [
              "47.10742377799915"
            ]
          },
          "metadata": {},
          "execution_count": 148
        }
      ]
    },
    {
      "cell_type": "markdown",
      "source": [
        "## Covarianta\n",
        "![image.png](data:image/png;base64,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)\n",
        "* O covarianță pozitivă înseamnă că variabilele tind să crească sau să scadă împreună.\n",
        "* O covarianță negativă sugerează că atunci când una dintre variabile crește, cealaltă tinde să scadă."
      ],
      "metadata": {
        "id": "hy862VGY0cRe"
      }
    },
    {
      "cell_type": "code",
      "source": [
        "np.cov(a1d, np.array([1, 3, 2, 8]))"
      ],
      "metadata": {
        "colab": {
          "base_uri": "https://localhost:8080/"
        },
        "id": "R6aQUi9T1Ozt",
        "outputId": "fc73e7e2-0ee9-46cb-be89-0300f6bfeac4"
      },
      "execution_count": null,
      "outputs": [
        {
          "output_type": "execute_result",
          "data": {
            "text/plain": [
              "array([[1.65669167e+04, 3.32500000e+02],\n",
              "       [3.32500000e+02, 9.66666667e+00]])"
            ]
          },
          "metadata": {},
          "execution_count": 222
        }
      ]
    },
    {
      "cell_type": "markdown",
      "source": [
        "## Corelatia\n",
        "![image.png](data:image/png;base64,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)\n",
        "* Corelația măsoară gradul de relație liniară dintre două variabile și ia valori între -1 și 1, unde 1 înseamnă corelație perfect pozitivă, -1 corelație perfect negativă, iar 0 indică absența corelației."
      ],
      "metadata": {
        "id": "J7ObipN73xQV"
      }
    },
    {
      "cell_type": "code",
      "source": [
        "np.corrcoef(a1d, np.array([2, 4, 6, 20]))"
      ],
      "metadata": {
        "colab": {
          "base_uri": "https://localhost:8080/"
        },
        "id": "yIS0x53430h4",
        "outputId": "7b439eb5-30f9-4a70-ac54-53fd0271bb68"
      },
      "execution_count": null,
      "outputs": [
        {
          "output_type": "execute_result",
          "data": {
            "text/plain": [
              "array([[1.       , 0.8861963],\n",
              "       [0.8861963, 1.       ]])"
            ]
          },
          "metadata": {},
          "execution_count": 224
        }
      ]
    },
    {
      "cell_type": "markdown",
      "source": [
        "## Prod si cumprod"
      ],
      "metadata": {
        "id": "70IAPlcyjuXL"
      }
    },
    {
      "cell_type": "code",
      "source": [
        "print(a2d.prod(axis=0)) ## Analog cu media si suma pentru toata matricea si pentru linii\n",
        "print(a2d.cumprod(axis=0))"
      ],
      "metadata": {
        "colab": {
          "base_uri": "https://localhost:8080/"
        },
        "id": "uuHgk1F-jkOj",
        "outputId": "0c18a3ca-cc5f-4745-d945-3ff42e2d9e39"
      },
      "execution_count": null,
      "outputs": [
        {
          "output_type": "stream",
          "name": "stdout",
          "text": [
            "[-67200      0 195000 504000]\n",
            "[[   -50      2      3      4]\n",
            " [  -350      0     39     56]\n",
            " [ -4200      0   1950   3360]\n",
            " [-67200      0 195000 504000]]\n"
          ]
        }
      ]
    },
    {
      "cell_type": "markdown",
      "source": [
        "## All si any"
      ],
      "metadata": {
        "id": "u4hU9My3k53B"
      }
    },
    {
      "cell_type": "code",
      "source": [
        "a2d[a2d>0]"
      ],
      "metadata": {
        "colab": {
          "base_uri": "https://localhost:8080/"
        },
        "id": "ud6qCOySkAdX",
        "outputId": "3a6352f8-bd5f-4db3-d6c8-7b5520b3d34c"
      },
      "execution_count": null,
      "outputs": [
        {
          "output_type": "execute_result",
          "data": {
            "text/plain": [
              "array([  2,   3,   4,   7,  13,  14,  12,  15,  50,  60,  16,  90, 100,\n",
              "       150])"
            ]
          },
          "metadata": {},
          "execution_count": 153
        }
      ]
    },
    {
      "cell_type": "code",
      "source": [
        "a2d[(a2d > 10) & (a2d < 50)]"
      ],
      "metadata": {
        "colab": {
          "base_uri": "https://localhost:8080/"
        },
        "id": "SyZSU9J8lc0y",
        "outputId": "ed4f63c1-118c-47f7-b9b6-54043df9f3e2"
      },
      "execution_count": null,
      "outputs": [
        {
          "output_type": "execute_result",
          "data": {
            "text/plain": [
              "array([13, 14, 12, 15, 16])"
            ]
          },
          "metadata": {},
          "execution_count": 158
        }
      ]
    },
    {
      "cell_type": "code",
      "source": [
        "a2d > 0"
      ],
      "metadata": {
        "colab": {
          "base_uri": "https://localhost:8080/"
        },
        "id": "YX9lmO2skYTk",
        "outputId": "c2315788-e3ec-4671-fff1-fa01d440e336"
      },
      "execution_count": null,
      "outputs": [
        {
          "output_type": "execute_result",
          "data": {
            "text/plain": [
              "array([[False,  True,  True,  True],\n",
              "       [ True, False,  True,  True],\n",
              "       [ True,  True,  True,  True],\n",
              "       [ True,  True,  True,  True]])"
            ]
          },
          "metadata": {},
          "execution_count": 154
        }
      ]
    },
    {
      "cell_type": "code",
      "source": [
        "(a2d > 0).all()"
      ],
      "metadata": {
        "colab": {
          "base_uri": "https://localhost:8080/"
        },
        "id": "rmlYTVc2lRc_",
        "outputId": "ae3eb026-51f5-4b1c-ba2d-acc72392d693"
      },
      "execution_count": null,
      "outputs": [
        {
          "output_type": "execute_result",
          "data": {
            "text/plain": [
              "False"
            ]
          },
          "metadata": {},
          "execution_count": 155
        }
      ]
    },
    {
      "cell_type": "code",
      "source": [
        "(a2d > 0).any()"
      ],
      "metadata": {
        "colab": {
          "base_uri": "https://localhost:8080/"
        },
        "id": "nZTP7BqHlXo-",
        "outputId": "a96c4324-fbf2-403a-98bc-528ad2d19581"
      },
      "execution_count": null,
      "outputs": [
        {
          "output_type": "execute_result",
          "data": {
            "text/plain": [
              "True"
            ]
          },
          "metadata": {},
          "execution_count": 156
        }
      ]
    },
    {
      "cell_type": "markdown",
      "source": [
        "## Radical si puteri"
      ],
      "metadata": {
        "id": "T0bLAHWplybH"
      }
    },
    {
      "cell_type": "code",
      "source": [
        "print(np.sqrt(a1d))\n",
        "print(np.cbrt(a1d))\n",
        "print(np.square(a1d))\n",
        "print(a1d ** 2)\n",
        "print(np.power(a1d, [3, 1, 1, 2]))"
      ],
      "metadata": {
        "colab": {
          "base_uri": "https://localhost:8080/"
        },
        "id": "l3RnCoVblapg",
        "outputId": "789eec6c-c84d-4961-eca8-8fca7be99243"
      },
      "execution_count": null,
      "outputs": [
        {
          "output_type": "stream",
          "name": "stdout",
          "text": [
            "[ 1.         10.         14.14213562 17.32050808]\n",
            "[1.         4.64158883 5.84803548 6.6943295 ]\n",
            "[    1 10000 40000 90000]\n",
            "[    1 10000 40000 90000]\n",
            "[    1   100   200 90000]\n"
          ]
        }
      ]
    },
    {
      "cell_type": "markdown",
      "source": [
        "## Exponentiala si logaritm"
      ],
      "metadata": {
        "id": "JCRMW2rFmx_N"
      }
    },
    {
      "cell_type": "code",
      "source": [
        "print(np.exp(a1d))\n",
        "print(np.log(a1d))\n",
        "print(np.log10(a1d))\n",
        "print(np.log2(a1d))"
      ],
      "metadata": {
        "colab": {
          "base_uri": "https://localhost:8080/"
        },
        "id": "krnLrJiyl333",
        "outputId": "044b92c5-0677-42e4-bae0-e3944d9d1d3a"
      },
      "execution_count": null,
      "outputs": [
        {
          "output_type": "stream",
          "name": "stdout",
          "text": [
            "[2.71828183e+000 2.68811714e+043 7.22597377e+086 1.94242640e+130]\n",
            "[0.         4.60517019 5.29831737 5.70378247]\n",
            "[0.         2.         2.30103    2.47712125]\n",
            "[0.         6.64385619 7.64385619 8.22881869]\n"
          ]
        }
      ]
    },
    {
      "cell_type": "markdown",
      "source": [
        "## Mediana\n",
        "* Dacă vectorul are un număr impar de elemente, median este valoarea din mijloc.\n",
        "* Dacă vectorul are un număr par de elemente, median este media celor două valori din mijloc."
      ],
      "metadata": {
        "id": "Z2sIE9elndyl"
      }
    },
    {
      "cell_type": "code",
      "source": [
        "print(np.median([9, 1, 45, 31, 59, 17]))\n",
        "print(np.median([44, 11, 52, 21, 19]))"
      ],
      "metadata": {
        "colab": {
          "base_uri": "https://localhost:8080/"
        },
        "id": "Gg0kBZZPnHBh",
        "outputId": "037ad76e-41e7-4678-d4a8-0ebd29bdcbca"
      },
      "execution_count": null,
      "outputs": [
        {
          "output_type": "stream",
          "name": "stdout",
          "text": [
            "24.0\n",
            "21.0\n"
          ]
        }
      ]
    },
    {
      "cell_type": "markdown",
      "source": [
        "## Manipularea datelor"
      ],
      "metadata": {
        "id": "RzODCY-RpuNZ"
      }
    },
    {
      "cell_type": "code",
      "source": [
        "print(a2d)"
      ],
      "metadata": {
        "colab": {
          "base_uri": "https://localhost:8080/"
        },
        "id": "BlqcKyEsptmg",
        "outputId": "de2c4463-2cd0-4272-c065-562accf3ca4e"
      },
      "execution_count": null,
      "outputs": [
        {
          "output_type": "stream",
          "name": "stdout",
          "text": [
            "[[-50   2   3   4]\n",
            " [  7   0  13  14]\n",
            " [ 12  15  50  60]\n",
            " [ 16  90 100 150]]\n"
          ]
        }
      ]
    },
    {
      "cell_type": "code",
      "source": [
        "np.concatenate([a2d, np.ones_like(a = a2d)], axis=0)"
      ],
      "metadata": {
        "colab": {
          "base_uri": "https://localhost:8080/"
        },
        "id": "j7eTcaM0nlFO",
        "outputId": "a8cb2a52-7f3f-4ef4-99b5-e892fd89ce82"
      },
      "execution_count": null,
      "outputs": [
        {
          "output_type": "execute_result",
          "data": {
            "text/plain": [
              "array([[-50,   2,   3,   4],\n",
              "       [  7,   0,  13,  14],\n",
              "       [ 12,  15,  50,  60],\n",
              "       [ 16,  90, 100, 150],\n",
              "       [  1,   1,   1,   1],\n",
              "       [  1,   1,   1,   1],\n",
              "       [  1,   1,   1,   1],\n",
              "       [  1,   1,   1,   1]])"
            ]
          },
          "metadata": {},
          "execution_count": 186
        }
      ]
    },
    {
      "cell_type": "code",
      "source": [
        "np.concatenate([a2d, np.ones_like(a = a2d)], axis=1)"
      ],
      "metadata": {
        "colab": {
          "base_uri": "https://localhost:8080/"
        },
        "id": "M0GxDBbXp472",
        "outputId": "5380bbc3-cd25-457c-f085-b3c8ceb865ef"
      },
      "execution_count": null,
      "outputs": [
        {
          "output_type": "execute_result",
          "data": {
            "text/plain": [
              "array([[-50,   2,   3,   4,   1,   1,   1,   1],\n",
              "       [  7,   0,  13,  14,   1,   1,   1,   1],\n",
              "       [ 12,  15,  50,  60,   1,   1,   1,   1],\n",
              "       [ 16,  90, 100, 150,   1,   1,   1,   1]])"
            ]
          },
          "metadata": {},
          "execution_count": 189
        }
      ]
    },
    {
      "cell_type": "code",
      "source": [
        "np.stack([a2d, np.ones_like(a = a2d)], axis=0)"
      ],
      "metadata": {
        "colab": {
          "base_uri": "https://localhost:8080/"
        },
        "id": "wDpeMkUCquXx",
        "outputId": "acf8b031-aa66-451c-b7af-bcab31c269bb"
      },
      "execution_count": null,
      "outputs": [
        {
          "output_type": "execute_result",
          "data": {
            "text/plain": [
              "array([[[-50,   2,   3,   4],\n",
              "        [  7,   0,  13,  14],\n",
              "        [ 12,  15,  50,  60],\n",
              "        [ 16,  90, 100, 150]],\n",
              "\n",
              "       [[  1,   1,   1,   1],\n",
              "        [  1,   1,   1,   1],\n",
              "        [  1,   1,   1,   1],\n",
              "        [  1,   1,   1,   1]]])"
            ]
          },
          "metadata": {},
          "execution_count": 193
        }
      ]
    },
    {
      "cell_type": "code",
      "source": [
        "np.stack([a2d, np.ones_like(a = a2d)], axis=1)"
      ],
      "metadata": {
        "colab": {
          "base_uri": "https://localhost:8080/"
        },
        "id": "2awxYI-vrDwH",
        "outputId": "431a5280-80e3-4308-dc07-5635f9fd495c"
      },
      "execution_count": null,
      "outputs": [
        {
          "output_type": "execute_result",
          "data": {
            "text/plain": [
              "array([[[-50,   2,   3,   4],\n",
              "        [  1,   1,   1,   1]],\n",
              "\n",
              "       [[  7,   0,  13,  14],\n",
              "        [  1,   1,   1,   1]],\n",
              "\n",
              "       [[ 12,  15,  50,  60],\n",
              "        [  1,   1,   1,   1]],\n",
              "\n",
              "       [[ 16,  90, 100, 150],\n",
              "        [  1,   1,   1,   1]]])"
            ]
          },
          "metadata": {},
          "execution_count": 195
        }
      ]
    },
    {
      "cell_type": "code",
      "source": [
        "np.split(ary=a2d, indices_or_sections=2, axis=0) ## Similar cu np.vsplit()"
      ],
      "metadata": {
        "colab": {
          "base_uri": "https://localhost:8080/"
        },
        "id": "R1_0y3GHrIAL",
        "outputId": "e0fdc703-90ad-4ad6-c27e-53238dae1f9a"
      },
      "execution_count": null,
      "outputs": [
        {
          "output_type": "execute_result",
          "data": {
            "text/plain": [
              "[array([[-50,   2,   3,   4],\n",
              "        [  7,   0,  13,  14]]),\n",
              " array([[ 12,  15,  50,  60],\n",
              "        [ 16,  90, 100, 150]])]"
            ]
          },
          "metadata": {},
          "execution_count": 196
        }
      ]
    },
    {
      "cell_type": "code",
      "source": [
        "np.split(ary=a2d, indices_or_sections=2, axis=1) ## Similar cu np.hsplit()"
      ],
      "metadata": {
        "colab": {
          "base_uri": "https://localhost:8080/"
        },
        "id": "tp3ceaj_sChP",
        "outputId": "d4071d86-2d8c-42c7-ece5-d80860a1b1c8"
      },
      "execution_count": null,
      "outputs": [
        {
          "output_type": "execute_result",
          "data": {
            "text/plain": [
              "[array([[-50,   2],\n",
              "        [  7,   0],\n",
              "        [ 12,  15],\n",
              "        [ 16,  90]]),\n",
              " array([[  3,   4],\n",
              "        [ 13,  14],\n",
              "        [ 50,  60],\n",
              "        [100, 150]])]"
            ]
          },
          "metadata": {},
          "execution_count": 202
        }
      ]
    },
    {
      "cell_type": "markdown",
      "source": [
        "## Insert and delete"
      ],
      "metadata": {
        "id": "kXSpwNCNtW0z"
      }
    },
    {
      "cell_type": "code",
      "source": [
        "np.insert(arr=a2d, obj=1, values = np.ones_like(a1d), axis=1)"
      ],
      "metadata": {
        "colab": {
          "base_uri": "https://localhost:8080/"
        },
        "id": "nVgRw8--sHs9",
        "outputId": "79048a37-d9fa-4a35-9b71-99ccc5cc25c9"
      },
      "execution_count": null,
      "outputs": [
        {
          "output_type": "execute_result",
          "data": {
            "text/plain": [
              "array([[-50,   1,   2,   3,   4],\n",
              "       [  7,   1,   0,  13,  14],\n",
              "       [ 12,   1,  15,  50,  60],\n",
              "       [ 16,   1,  90, 100, 150]])"
            ]
          },
          "metadata": {},
          "execution_count": 204
        }
      ]
    },
    {
      "cell_type": "code",
      "source": [
        "np.delete(arr=a2d, obj=1, axis=1)"
      ],
      "metadata": {
        "colab": {
          "base_uri": "https://localhost:8080/"
        },
        "id": "2KfJRl1Bt1qX",
        "outputId": "48ba99cf-023b-4e36-9bc3-11f973ff8bb2"
      },
      "execution_count": null,
      "outputs": [
        {
          "output_type": "execute_result",
          "data": {
            "text/plain": [
              "array([[-50,   3,   4],\n",
              "       [  7,  13,  14],\n",
              "       [ 12,  50,  60],\n",
              "       [ 16, 100, 150]])"
            ]
          },
          "metadata": {},
          "execution_count": 205
        }
      ]
    },
    {
      "cell_type": "markdown",
      "source": [
        "## Functii matematice\n",
        "np.add, np.subtract, np.multiply, np.divide -> similare cu operatorii +, -, * si /\n"
      ],
      "metadata": {
        "id": "spePRAkowFaL"
      }
    },
    {
      "cell_type": "code",
      "source": [
        "np.lcm(a1d, 7) ## lowest common multiple"
      ],
      "metadata": {
        "colab": {
          "base_uri": "https://localhost:8080/"
        },
        "id": "0k1NBYFXuMBN",
        "outputId": "f4589aa6-2fe8-45ad-be85-fbb4b9ff9bc2"
      },
      "execution_count": null,
      "outputs": [
        {
          "output_type": "execute_result",
          "data": {
            "text/plain": [
              "array([   7,  700, 1400, 2100])"
            ]
          },
          "metadata": {},
          "execution_count": 213
        }
      ]
    },
    {
      "cell_type": "code",
      "source": [
        "np.gcd(a1d, 24) ## greatest common divisor"
      ],
      "metadata": {
        "colab": {
          "base_uri": "https://localhost:8080/"
        },
        "id": "eX01KEmque-E",
        "outputId": "45555d3c-a405-4563-8852-ab347281d3c1"
      },
      "execution_count": null,
      "outputs": [
        {
          "output_type": "execute_result",
          "data": {
            "text/plain": [
              "array([ 1,  4,  8, 12])"
            ]
          },
          "metadata": {},
          "execution_count": 216
        }
      ]
    },
    {
      "cell_type": "markdown",
      "source": [
        "* Functii trigonometrice -> np.sin, np.cos, np.tan, np.arc*, np.*h, np.rad2deg, np.radians\n",
        "* Functii de comparatie -> np.maximum, np.minimum, np.greater, np.less, np.less_equal, np.not_equal (element wise)\n",
        "* Functii de logica binara -> logical_and, logical_or_logical_xor, logical_not\n",
        "* Functii de verificare a valorilor finite -> np.isfinite, np.isinf, np.isnan"
      ],
      "metadata": {
        "id": "Ue4yk1G2yFU5"
      }
    },
    {
      "cell_type": "markdown",
      "source": [
        "## Functii de rotunjire"
      ],
      "metadata": {
        "id": "9CHxntSDz9ov"
      }
    },
    {
      "cell_type": "code",
      "source": [
        "print(np.floor([1.21, 4.55]))\n",
        "print(np.ceil([1.21, 4.55]))\n",
        "print(np.trunc([1.21, 4.55]))\n",
        "print(np.round([1.21, 4.55], decimals=1))"
      ],
      "metadata": {
        "colab": {
          "base_uri": "https://localhost:8080/"
        },
        "id": "WNEjET-hxU72",
        "outputId": "6dd7262f-f280-491a-a5ea-a77512115bd1"
      },
      "execution_count": null,
      "outputs": [
        {
          "output_type": "stream",
          "name": "stdout",
          "text": [
            "[1. 4.]\n",
            "[2. 5.]\n",
            "[1. 4.]\n",
            "[1.2 4.6]\n"
          ]
        }
      ]
    },
    {
      "cell_type": "markdown",
      "source": [
        "## Algebra lineara"
      ],
      "metadata": {
        "id": "YnoUGMsr0Eu9"
      }
    },
    {
      "cell_type": "code",
      "source": [
        "np.dot(np.array([1, 3, 5, 7]), np.array([1, 2, 3, 4]))"
      ],
      "metadata": {
        "colab": {
          "base_uri": "https://localhost:8080/"
        },
        "id": "X_CgqYXVzv1o",
        "outputId": "408053a6-35f8-4723-a311-958279f692c5"
      },
      "execution_count": null,
      "outputs": [
        {
          "output_type": "execute_result",
          "data": {
            "text/plain": [
              "50"
            ]
          },
          "metadata": {},
          "execution_count": 225
        }
      ]
    },
    {
      "cell_type": "code",
      "source": [
        "res = np.dot(np.array(\n",
        "[[-4, 2],\n",
        " [4, 9],\n",
        " [7, -9],\n",
        " [5, -6]]),\n",
        "np.array(\n",
        "[[4, 1, -5, 3],\n",
        "[4, -2, 3, 6]])) # Similar cu np.matmul\n",
        "print(res)"
      ],
      "metadata": {
        "colab": {
          "base_uri": "https://localhost:8080/"
        },
        "id": "pmoxRi9F8JXc",
        "outputId": "3e4b236a-946e-4764-eeb0-b91e0a5dd96e"
      },
      "execution_count": null,
      "outputs": [
        {
          "output_type": "stream",
          "name": "stdout",
          "text": [
            "[[ -8  -8  26   0]\n",
            " [ 52 -14   7  66]\n",
            " [ -8  25 -62 -33]\n",
            " [ -4  17 -43 -21]]\n"
          ]
        }
      ]
    },
    {
      "cell_type": "markdown",
      "source": [
        "![image.png](data:image/png;base64,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)\n",
        "![image.png](data:image/png;base64,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)"
      ],
      "metadata": {
        "id": "mKV707Kw85_Q"
      }
    },
    {
      "cell_type": "code",
      "source": [
        "np.linalg.det(res)"
      ],
      "metadata": {
        "colab": {
          "base_uri": "https://localhost:8080/"
        },
        "id": "m0lDViUb81JM",
        "outputId": "5bc2bd4e-771c-4edb-ff56-a5ffe1090510"
      },
      "execution_count": null,
      "outputs": [
        {
          "output_type": "execute_result",
          "data": {
            "text/plain": [
              "1.4994668086441058e-26"
            ]
          },
          "metadata": {},
          "execution_count": 230
        }
      ]
    },
    {
      "cell_type": "code",
      "source": [
        "np.linalg.inv(res)"
      ],
      "metadata": {
        "colab": {
          "base_uri": "https://localhost:8080/"
        },
        "id": "r18eYc4j-qPf",
        "outputId": "058ca809-d08a-493c-b98d-2c517f5aef98"
      },
      "execution_count": null,
      "outputs": [
        {
          "output_type": "execute_result",
          "data": {
            "text/plain": [
              "array([[ 1.64193736e+14,  4.75048256e+13,  3.26373553e+14,\n",
              "        -3.63571845e+14],\n",
              "       [ 7.50599938e+14,  1.69643168e+14,  3.98993149e+14,\n",
              "        -9.38249922e+13],\n",
              "       [ 2.81474977e+14,  6.68147672e+13,  2.23189754e+14,\n",
              "        -1.40737488e+14],\n",
              "       [ 0.00000000e+00, -8.52954475e+12, -1.96179529e+14,\n",
              "         2.81474977e+14]])"
            ]
          },
          "metadata": {},
          "execution_count": 231
        }
      ]
    },
    {
      "cell_type": "code",
      "source": [
        "np.linalg.eig(res)"
      ],
      "metadata": {
        "colab": {
          "base_uri": "https://localhost:8080/"
        },
        "id": "hpaksMkn-5RS",
        "outputId": "17283da9-22f6-45f4-f6fc-2f8c01bc7488"
      },
      "execution_count": null,
      "outputs": [
        {
          "output_type": "execute_result",
          "data": {
            "text/plain": [
              "EigResult(eigenvalues=array([-9.26029924e+01, -1.23970076e+01, -3.98398273e-15, -1.20685014e-14]), eigenvectors=array([[ 0.26129525, -0.33108269, -0.32309055,  0.09534938],\n",
              "       [ 0.3247899 ,  0.85297924, -0.86587824,  0.93887777],\n",
              "       [-0.75030926,  0.31844642, -0.36583655,  0.31822374],\n",
              "       [-0.5131007 ,  0.24779536,  0.1096859 ,  0.09028113]]))"
            ]
          },
          "metadata": {},
          "execution_count": 232
        }
      ]
    },
    {
      "cell_type": "markdown",
      "source": [
        "## Valorile proprii si vectorii a unei matrice respecta urmatoarea ecuatie M * v = l * v"
      ],
      "metadata": {
        "id": "aUXzZtte_6hO"
      }
    },
    {
      "cell_type": "code",
      "source": [],
      "metadata": {
        "id": "K_43lQnO_nr6"
      },
      "execution_count": null,
      "outputs": []
    }
  ]
}