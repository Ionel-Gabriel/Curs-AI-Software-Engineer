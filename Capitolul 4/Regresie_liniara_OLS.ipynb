{
 "cells": [
  {
   "cell_type": "markdown",
   "metadata": {
    "id": "CZI_E6-nXCTG"
   },
   "source": [
    "## Exemplu OLS cu ecuatii matriceale"
   ]
  },
  {
   "cell_type": "code",
   "execution_count": null,
   "metadata": {
    "id": "A7-JWCSERh7O"
   },
   "outputs": [],
   "source": [
    "## Ecuatia este b0 + b1x1 + b2x2 = y"
   ]
  },
  {
   "cell_type": "code",
   "execution_count": null,
   "metadata": {
    "id": "VHMSRpmYXayC"
   },
   "outputs": [],
   "source": [
    "## Consideram ca pentru urmatoarele inregistrari X avem valorile Y\n",
    "## Daca x1 = 1, x2 = 2 -> y = 4\n",
    "## Daca x1 = 2, x2 = 1 -> y = 3\n",
    "## Daca x1 = 3, x2 = 3 -> y = 6"
   ]
  },
  {
   "cell_type": "code",
   "execution_count": null,
   "metadata": {
    "id": "rBabVN8qX936"
   },
   "outputs": [],
   "source": [
    "## Pentru fiecare dintre observatiile respective functia se scrie astfel:\n",
    "## b0 + b1 + 2b2 = 4\n",
    "## b0 + 2b1 + b2 = 3\n",
    "## b0 + 3b1 + 3b2 = 6"
   ]
  },
  {
   "cell_type": "code",
   "execution_count": null,
   "metadata": {
    "id": "LwUAhKhsYSxH"
   },
   "outputs": [],
   "source": [
    "## Transpunem urmatorul sistm in ecuatii matriceale: X b = y\n",
    "import numpy as np\n",
    "X = np.array([[1, 1, 2], [1, 2, 1], [1, 3, 3]])\n",
    "y = np.array([4, 3, 6]).T\n",
    "\n"
   ]
  },
  {
   "cell_type": "code",
   "execution_count": null,
   "metadata": {
    "colab": {
     "base_uri": "https://localhost:8080/"
    },
    "id": "O5Sv0zixY0Ws",
    "outputId": "13e5c247-2c76-464f-a169-5e9a2b64f208"
   },
   "outputs": [
    {
     "data": {
      "text/plain": [
       "array([[1, 1, 2],\n",
       "       [1, 2, 1],\n",
       "       [1, 3, 3]])"
      ]
     },
     "execution_count": 5,
     "metadata": {},
     "output_type": "execute_result"
    }
   ],
   "source": [
    "X"
   ]
  },
  {
   "cell_type": "code",
   "execution_count": null,
   "metadata": {
    "colab": {
     "base_uri": "https://localhost:8080/"
    },
    "id": "5lk9KNE8Y1Ko",
    "outputId": "d6b929de-8a6d-461c-a44b-0b8cd9cb6b6c"
   },
   "outputs": [
    {
     "data": {
      "text/plain": [
       "array([4, 3, 6])"
      ]
     },
     "execution_count": 6,
     "metadata": {},
     "output_type": "execute_result"
    }
   ],
   "source": [
    "y"
   ]
  },
  {
   "cell_type": "code",
   "execution_count": null,
   "metadata": {
    "id": "stUTo-QIY2O7"
   },
   "outputs": [],
   "source": [
    "## Matricea X nu o sa fie niciodata patratica, asadar pentru a avea termenul b liber in stanga, intai imi trebuie o matrice patratica, ca sa o pot trece in partea dreapta\n",
    "## Inmultesc la stanga cu transpusa lui X -> X'Xb = X'y\n",
    "## Las vectorul b singur in partea stanga -> b = inv(X'X)X'y\n",
    "##  Rezultatul acwestui calcul imi va returna vectorul b care va avea valorile b0, b1, ......, bn"
   ]
  },
  {
   "cell_type": "code",
   "execution_count": null,
   "metadata": {
    "colab": {
     "base_uri": "https://localhost:8080/"
    },
    "id": "U696_5nWaPGt",
    "outputId": "e422171f-d8e3-4c31-8bbd-3d98465d26ee"
   },
   "outputs": [
    {
     "data": {
      "text/plain": [
       "array([[1, 1, 1],\n",
       "       [1, 2, 3],\n",
       "       [2, 1, 3]])"
      ]
     },
     "execution_count": 8,
     "metadata": {},
     "output_type": "execute_result"
    }
   ],
   "source": [
    "X.transpose()"
   ]
  },
  {
   "cell_type": "code",
   "execution_count": null,
   "metadata": {
    "colab": {
     "base_uri": "https://localhost:8080/"
    },
    "id": "Bf1NI6cXaTEY",
    "outputId": "752b00ea-ebee-4feb-a372-7c614ad02872"
   },
   "outputs": [
    {
     "data": {
      "text/plain": [
       "array([[ 1.        ,  1.        , -1.        ],\n",
       "       [-0.66666667,  0.33333333,  0.33333333],\n",
       "       [ 0.33333333, -0.66666667,  0.33333333]])"
      ]
     },
     "execution_count": 9,
     "metadata": {},
     "output_type": "execute_result"
    }
   ],
   "source": [
    "np.linalg.inv(X)"
   ]
  },
  {
   "cell_type": "code",
   "execution_count": null,
   "metadata": {
    "colab": {
     "base_uri": "https://localhost:8080/"
    },
    "id": "q-QjN57Hagdn",
    "outputId": "8ae69ddb-e90a-4923-b9ef-496fada945bb"
   },
   "outputs": [
    {
     "data": {
      "text/plain": [
       "array([[ 3,  6,  6],\n",
       "       [ 6, 14, 13],\n",
       "       [ 6, 13, 14]])"
      ]
     },
     "execution_count": 11,
     "metadata": {},
     "output_type": "execute_result"
    }
   ],
   "source": [
    "np.dot(X.T, X)"
   ]
  },
  {
   "cell_type": "code",
   "execution_count": null,
   "metadata": {
    "id": "dcZqicjQalmB"
   },
   "outputs": [],
   "source": [
    "inverse = np.linalg.inv(np.dot(X.T, X))"
   ]
  },
  {
   "cell_type": "code",
   "execution_count": null,
   "metadata": {
    "colab": {
     "base_uri": "https://localhost:8080/"
    },
    "id": "6BXdI5V-az0q",
    "outputId": "4b99dc32-6458-4ec9-82b5-cbbc5ce557f0"
   },
   "outputs": [
    {
     "data": {
      "text/plain": [
       "array([[ 3.        , -0.66666667, -0.66666667],\n",
       "       [-0.66666667,  0.66666667, -0.33333333],\n",
       "       [-0.66666667, -0.33333333,  0.66666667]])"
      ]
     },
     "execution_count": 13,
     "metadata": {},
     "output_type": "execute_result"
    }
   ],
   "source": [
    "inverse"
   ]
  },
  {
   "cell_type": "code",
   "execution_count": null,
   "metadata": {
    "id": "7Enevv_Va0ks"
   },
   "outputs": [],
   "source": [
    "b = np.linalg.multi_dot([inverse, X.T, y])"
   ]
  },
  {
   "cell_type": "code",
   "execution_count": null,
   "metadata": {
    "colab": {
     "base_uri": "https://localhost:8080/"
    },
    "id": "qQGC3Ix8bCT6",
    "outputId": "56b88866-6ba7-400b-d97f-5cc17f4c6258"
   },
   "outputs": [
    {
     "data": {
      "text/plain": [
       "array([1.        , 0.33333333, 1.33333333])"
      ]
     },
     "execution_count": 15,
     "metadata": {},
     "output_type": "execute_result"
    }
   ],
   "source": [
    "b"
   ]
  },
  {
   "cell_type": "code",
   "execution_count": null,
   "metadata": {
    "id": "09zzw2EobC54"
   },
   "outputs": [],
   "source": [
    "## Functia noastra devine f(x) = 1 + 1/3x1 + 4/3x2"
   ]
  },
  {
   "cell_type": "code",
   "execution_count": null,
   "metadata": {
    "id": "OuDd1DOBbXdr"
   },
   "outputs": [],
   "source": [
    "## Dacă nu este inversabilă, regresia liniară OLS nu poate fi calculată direct prin formula standard. În schimb, se pot folosi tehnici precum:\n",
    "# Pseudoinversa Moore-Penrose pentru a obține o soluție generalizată Pseudoinversa Moore-Penrose poate fi calculată folosind decompoziția în valori singulare (SVD) a matricei  care este o metodă robustă\n",
    "# și numerically stabilă pentru a trata matricele sin"
   ]
  },
  {
   "cell_type": "markdown",
   "metadata": {
    "id": "POPcWFmVHrkA"
   },
   "source": [
    "* Regularizarea Ridge pentru a face matricea inversabilă\n",
    "\n",
    "![image.png](data:image/png;base64,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)"
   ]
  },
  {
   "cell_type": "markdown",
   "metadata": {
    "id": "0-aCVt2uIxNy"
   },
   "source": [
    "## Ce inseamna ca o matrice nu este inversabila?\n",
    "* O matrice este singulară dacă nu are rang complet, adică nu poate fi inversată.\n",
    "* Rangul unei matrici este dat de cel mai mare ordin al determinantilor matricii"
   ]
  },
  {
   "cell_type": "code",
   "execution_count": null,
   "metadata": {
    "id": "mQ-u-89oH3Po"
   },
   "outputs": [],
   "source": []
  }
 ],
 "metadata": {
  "colab": {
   "provenance": []
  },
  "kernelspec": {
   "display_name": "Python 3",
   "name": "python3"
  },
  "language_info": {
   "name": "python"
  }
 },
 "nbformat": 4,
 "nbformat_minor": 0
}
