{
  "nbformat": 4,
  "nbformat_minor": 0,
  "metadata": {
    "colab": {
      "provenance": []
    },
    "kernelspec": {
      "name": "python3",
      "display_name": "Python 3"
    },
    "language_info": {
      "name": "python"
    }
  },
  "cells": [
    {
      "cell_type": "code",
      "execution_count": null,
      "metadata": {
        "id": "8Rw6BbRYKXAE"
      },
      "outputs": [],
      "source": [
        "import cv2\n",
        "import numpy as np\n",
        "import matplotlib.pyplot as plt\n"
      ]
    },
    {
      "cell_type": "code",
      "source": [
        "import cv2\n",
        "import numpy as np\n",
        "import os\n",
        "from skimage.measure import shannon_entropy\n",
        "\n",
        "def is_salt_and_pepper_image(image):\n",
        "  ## Aflam dimensiunile imaginii\n",
        "  h, w = image.shape\n",
        "\n",
        "  ## Returnează coordonatele (rânduri, coloane) pentru toți pixelii cu valoarea 255. np.where\n",
        "  ## Combina coordonatele în perechi de forma (row, col), pentru a avea o listă de poziții. np.column_stack\n",
        "  white_pixel_positions = np.column_stack(np.where(image == 255))\n",
        "\n",
        "  # Obținem coordonatele pixelilor cu valoarea 0 (negru)\n",
        "  black_pixel_positions = np.column_stack(np.where(image == 0))\n",
        "\n",
        "  # Combinam vectorii cu coordonatele pixelilor\n",
        "  all_noisy_positions = np.vstack((white_pixel_positions, black_pixel_positions))\n",
        "  # print(all_noisy_positions[:50, :])\n",
        "\n",
        "  outliers_threshold = 100\n",
        "\n",
        "  outliers = []\n",
        "\n",
        "  for pos in all_noisy_positions:\n",
        "    # Coordonatele pixelului\n",
        "    x, y = pos\n",
        "\n",
        "    # Extragem vecinătatea (ferestra 3x3)\n",
        "    x_min = max(x - 1, 0)\n",
        "    x_max = min(x + 2, image.shape[0])\n",
        "    y_min = max(y - 1, 0)\n",
        "    y_max = min(y + 2, image.shape[1])\n",
        "\n",
        "  # Valori vecini (excludem pixelul central)\n",
        "    neighborhood = image[x_min:x_max, y_min:y_max]\n",
        "\n",
        "    # Excludem pixelul central\n",
        "    neighbors = np.delete(neighborhood.flatten(), (x - x_min) * (y_max - y_min) + (y - y_min))\n",
        "\n",
        "\n",
        "    # Calculăm media și deviația standard a vecinilor\n",
        "    mean = np.mean(neighbors)\n",
        "    std = np.std(neighbors)\n",
        "\n",
        "    # Verificăm dacă valoarea pixelului se încadrează în interval\n",
        "    if not (mean - 2 * std <= image[x, y] <= mean + 2 * std):\n",
        "        outliers.append(pos)  # Adăugăm pixelul la lista de outlieri\n",
        "\n",
        "  print(len(outliers))\n",
        "  return len(outliers) > outliers_threshold\n",
        "\n",
        "\n",
        "\n",
        "folder_path = \"gray_images\"\n",
        "image_files = [f for f in os.listdir(folder_path) if f.endswith(\".jpg\") or f.endswith(\".png\")]\n",
        "\n",
        "noisy_images = []\n",
        "\n",
        "for image_file in image_files:\n",
        "    image_path = os.path.join(folder_path, image_file)\n",
        "    image = cv2.imread(image_path, cv2.IMREAD_GRAYSCALE)\n",
        "\n",
        "    if is_salt_and_pepper_image(image):\n",
        "        noisy_images.append(image_file)\n",
        "\n",
        "print(\"Imagini cu zgomot sare și piper:\", noisy_images)\n"
      ],
      "metadata": {
        "colab": {
          "base_uri": "https://localhost:8080/"
        },
        "id": "KsjbR4dVKmd7",
        "outputId": "dc061b1c-c588-43eb-beb3-3a64b7d8c53d"
      },
      "execution_count": null,
      "outputs": [
        {
          "output_type": "stream",
          "name": "stdout",
          "text": [
            "178\n",
            "5\n",
            "5\n",
            "181\n",
            "Imagini cu zgomot sare și piper: ['truck_noisy.png', 'noisy_palace.png']\n"
          ]
        }
      ]
    },
    {
      "cell_type": "code",
      "source": [
        "## Antrenare\n",
        "## [imagine_HR, imagine_LR]\n",
        "## 3 parti\n",
        "## Generatorul in acest process de antrenare. Imi genereaza imagini HR din imaginea de rezolutie mica imagine_LR\n",
        "## Discrimiatorul in acest process de antrenare 'iti evalueaza' cat de realista este imaginea data de generator in raport cu cea data ca input (referinta)\n",
        "## Se compara iterativ imaginea generata cu cea reala -> diverse metode de comparatie ca analogie ganditiva la o functie de similaritate"
      ],
      "metadata": {
        "id": "rBz6pnPqDqct"
      },
      "execution_count": null,
      "outputs": []
    }
  ]
}