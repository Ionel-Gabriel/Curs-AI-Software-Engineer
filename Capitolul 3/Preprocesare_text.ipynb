{
  "nbformat": 4,
  "nbformat_minor": 0,
  "metadata": {
    "colab": {
      "provenance": []
    },
    "kernelspec": {
      "name": "python3",
      "display_name": "Python 3"
    },
    "language_info": {
      "name": "python"
    }
  },
  "cells": [
    {
      "cell_type": "code",
      "execution_count": null,
      "metadata": {
        "id": "trg5EkxILrKr"
      },
      "outputs": [],
      "source": [
        "import nltk\n",
        "from nltk.tokenize import word_tokenize"
      ]
    },
    {
      "cell_type": "markdown",
      "source": [
        "## Citire fisier text"
      ],
      "metadata": {
        "id": "qzCbcUToUrMs"
      }
    },
    {
      "cell_type": "code",
      "source": [
        "with open('legislatie/art8.txt', 'r', encoding='utf-8') as file:\n",
        "  text=file.read()"
      ],
      "metadata": {
        "id": "JrAVEp7ZUprn"
      },
      "execution_count": null,
      "outputs": []
    },
    {
      "cell_type": "code",
      "source": [
        "text"
      ],
      "metadata": {
        "colab": {
          "base_uri": "https://localhost:8080/",
          "height": 53
        },
        "id": "or8R-FQWU8fm",
        "outputId": "3a5a7b6b-6718-464b-cd10-43b841b22fc7"
      },
      "execution_count": null,
      "outputs": [
        {
          "output_type": "execute_result",
          "data": {
            "text/plain": [
              "'Pentru a fi conduse pe drumurile publice, fiecare autovehicul, tractor agricol sau forestier şi tramvai trebuie să fie dotat cu trusă medicală de prim ajutor, două triunghiuri reflectorizante şi un stingător de incendiu, omologate.'"
            ],
            "application/vnd.google.colaboratory.intrinsic+json": {
              "type": "string"
            }
          },
          "metadata": {},
          "execution_count": 3
        }
      ]
    },
    {
      "cell_type": "markdown",
      "source": [
        "## Tokenize"
      ],
      "metadata": {
        "id": "4fF5v6chVBtA"
      }
    },
    {
      "cell_type": "code",
      "source": [
        "nltk.download('punkt_tab')\n",
        "tokens = word_tokenize(text)\n",
        "print(tokens)\n",
        "## Functioneaza bine pe limba romana insa nu este specializat pe aceasta, mai exact, sintaxwe precum 'nu-l' pot fi separate incorect"
      ],
      "metadata": {
        "colab": {
          "base_uri": "https://localhost:8080/"
        },
        "id": "flCeDx9BU9Xr",
        "outputId": "c11777b9-c955-4b74-f9fd-a2025eb9502b"
      },
      "execution_count": null,
      "outputs": [
        {
          "output_type": "stream",
          "name": "stderr",
          "text": [
            "[nltk_data] Downloading package punkt_tab to /root/nltk_data...\n",
            "[nltk_data]   Unzipping tokenizers/punkt_tab.zip.\n"
          ]
        },
        {
          "output_type": "stream",
          "name": "stdout",
          "text": [
            "['Pentru', 'a', 'fi', 'conduse', 'pe', 'drumurile', 'publice', ',', 'fiecare', 'autovehicul', ',', 'tractor', 'agricol', 'sau', 'forestier', 'şi', 'tramvai', 'trebuie', 'să', 'fie', 'dotat', 'cu', 'trusă', 'medicală', 'de', 'prim', 'ajutor', ',', 'două', 'triunghiuri', 'reflectorizante', 'şi', 'un', 'stingător', 'de', 'incendiu', ',', 'omologate', '.']\n"
          ]
        }
      ]
    },
    {
      "cell_type": "code",
      "source": [
        "word_tokenize('Nu-l vedeam de umbrela')"
      ],
      "metadata": {
        "colab": {
          "base_uri": "https://localhost:8080/"
        },
        "id": "t8eaIZJKVH-e",
        "outputId": "5872ecd5-8d02-426c-b8ca-21b13cae9990"
      },
      "execution_count": null,
      "outputs": [
        {
          "output_type": "execute_result",
          "data": {
            "text/plain": [
              "['Nu-l', 'vedeam', 'de', 'umbrela']"
            ]
          },
          "metadata": {},
          "execution_count": 6
        }
      ]
    },
    {
      "cell_type": "code",
      "source": [
        "import spacy\n",
        "\n",
        "nlp = spacy.load(\"ro_core_news_sm\")\n",
        "\n",
        "doc = nlp(text)\n",
        "tokens = [token.text for token in doc]\n",
        "print(tokens)\n"
      ],
      "metadata": {
        "colab": {
          "base_uri": "https://localhost:8080/"
        },
        "id": "JGggz4_ZVn71",
        "outputId": "f11a358b-7084-4380-8895-64ce549992d3"
      },
      "execution_count": null,
      "outputs": [
        {
          "output_type": "stream",
          "name": "stdout",
          "text": [
            "['Pentru', 'a', 'fi', 'conduse', 'pe', 'drumurile', 'publice', ',', 'fiecare', 'autovehicul', ',', 'tractor', 'agricol', 'sau', 'forestier', 'şi', 'tramvai', 'trebuie', 'să', 'fie', 'dotat', 'cu', 'trusă', 'medicală', 'de', 'prim', 'ajutor', ',', 'două', 'triunghiuri', 'reflectorizante', 'şi', 'un', 'stingător', 'de', 'incendiu', ',', 'omologate', '.']\n"
          ]
        }
      ]
    },
    {
      "cell_type": "code",
      "source": [
        "!python -m spacy download ro_core_news_sm"
      ],
      "metadata": {
        "colab": {
          "base_uri": "https://localhost:8080/"
        },
        "collapsed": true,
        "id": "sVznZegyV-J9",
        "outputId": "46cd98b0-b36c-4193-9e3d-e544de508109"
      },
      "execution_count": null,
      "outputs": [
        {
          "output_type": "stream",
          "name": "stdout",
          "text": [
            "Collecting ro-core-news-sm==3.7.0\n",
            "  Downloading https://github.com/explosion/spacy-models/releases/download/ro_core_news_sm-3.7.0/ro_core_news_sm-3.7.0-py3-none-any.whl (12.9 MB)\n",
            "\u001b[2K     \u001b[90m━━━━━━━━━━━━━━━━━━━━━━━━━━━━━━━━━━━━━━━━\u001b[0m \u001b[32m12.9/12.9 MB\u001b[0m \u001b[31m57.0 MB/s\u001b[0m eta \u001b[36m0:00:00\u001b[0m\n",
            "\u001b[?25hRequirement already satisfied: spacy<3.8.0,>=3.7.0 in /usr/local/lib/python3.10/dist-packages (from ro-core-news-sm==3.7.0) (3.7.5)\n",
            "Requirement already satisfied: spacy-legacy<3.1.0,>=3.0.11 in /usr/local/lib/python3.10/dist-packages (from spacy<3.8.0,>=3.7.0->ro-core-news-sm==3.7.0) (3.0.12)\n",
            "Requirement already satisfied: spacy-loggers<2.0.0,>=1.0.0 in /usr/local/lib/python3.10/dist-packages (from spacy<3.8.0,>=3.7.0->ro-core-news-sm==3.7.0) (1.0.5)\n",
            "Requirement already satisfied: murmurhash<1.1.0,>=0.28.0 in /usr/local/lib/python3.10/dist-packages (from spacy<3.8.0,>=3.7.0->ro-core-news-sm==3.7.0) (1.0.10)\n",
            "Requirement already satisfied: cymem<2.1.0,>=2.0.2 in /usr/local/lib/python3.10/dist-packages (from spacy<3.8.0,>=3.7.0->ro-core-news-sm==3.7.0) (2.0.8)\n",
            "Requirement already satisfied: preshed<3.1.0,>=3.0.2 in /usr/local/lib/python3.10/dist-packages (from spacy<3.8.0,>=3.7.0->ro-core-news-sm==3.7.0) (3.0.9)\n",
            "Requirement already satisfied: thinc<8.3.0,>=8.2.2 in /usr/local/lib/python3.10/dist-packages (from spacy<3.8.0,>=3.7.0->ro-core-news-sm==3.7.0) (8.2.5)\n",
            "Requirement already satisfied: wasabi<1.2.0,>=0.9.1 in /usr/local/lib/python3.10/dist-packages (from spacy<3.8.0,>=3.7.0->ro-core-news-sm==3.7.0) (1.1.3)\n",
            "Requirement already satisfied: srsly<3.0.0,>=2.4.3 in /usr/local/lib/python3.10/dist-packages (from spacy<3.8.0,>=3.7.0->ro-core-news-sm==3.7.0) (2.4.8)\n",
            "Requirement already satisfied: catalogue<2.1.0,>=2.0.6 in /usr/local/lib/python3.10/dist-packages (from spacy<3.8.0,>=3.7.0->ro-core-news-sm==3.7.0) (2.0.10)\n",
            "Requirement already satisfied: weasel<0.5.0,>=0.1.0 in /usr/local/lib/python3.10/dist-packages (from spacy<3.8.0,>=3.7.0->ro-core-news-sm==3.7.0) (0.4.1)\n",
            "Requirement already satisfied: typer<1.0.0,>=0.3.0 in /usr/local/lib/python3.10/dist-packages (from spacy<3.8.0,>=3.7.0->ro-core-news-sm==3.7.0) (0.13.0)\n",
            "Requirement already satisfied: tqdm<5.0.0,>=4.38.0 in /usr/local/lib/python3.10/dist-packages (from spacy<3.8.0,>=3.7.0->ro-core-news-sm==3.7.0) (4.66.6)\n",
            "Requirement already satisfied: requests<3.0.0,>=2.13.0 in /usr/local/lib/python3.10/dist-packages (from spacy<3.8.0,>=3.7.0->ro-core-news-sm==3.7.0) (2.32.3)\n",
            "Requirement already satisfied: pydantic!=1.8,!=1.8.1,<3.0.0,>=1.7.4 in /usr/local/lib/python3.10/dist-packages (from spacy<3.8.0,>=3.7.0->ro-core-news-sm==3.7.0) (2.9.2)\n",
            "Requirement already satisfied: jinja2 in /usr/local/lib/python3.10/dist-packages (from spacy<3.8.0,>=3.7.0->ro-core-news-sm==3.7.0) (3.1.4)\n",
            "Requirement already satisfied: setuptools in /usr/local/lib/python3.10/dist-packages (from spacy<3.8.0,>=3.7.0->ro-core-news-sm==3.7.0) (75.1.0)\n",
            "Requirement already satisfied: packaging>=20.0 in /usr/local/lib/python3.10/dist-packages (from spacy<3.8.0,>=3.7.0->ro-core-news-sm==3.7.0) (24.2)\n",
            "Requirement already satisfied: langcodes<4.0.0,>=3.2.0 in /usr/local/lib/python3.10/dist-packages (from spacy<3.8.0,>=3.7.0->ro-core-news-sm==3.7.0) (3.4.1)\n",
            "Requirement already satisfied: numpy>=1.19.0 in /usr/local/lib/python3.10/dist-packages (from spacy<3.8.0,>=3.7.0->ro-core-news-sm==3.7.0) (1.26.4)\n",
            "Requirement already satisfied: language-data>=1.2 in /usr/local/lib/python3.10/dist-packages (from langcodes<4.0.0,>=3.2.0->spacy<3.8.0,>=3.7.0->ro-core-news-sm==3.7.0) (1.2.0)\n",
            "Requirement already satisfied: annotated-types>=0.6.0 in /usr/local/lib/python3.10/dist-packages (from pydantic!=1.8,!=1.8.1,<3.0.0,>=1.7.4->spacy<3.8.0,>=3.7.0->ro-core-news-sm==3.7.0) (0.7.0)\n",
            "Requirement already satisfied: pydantic-core==2.23.4 in /usr/local/lib/python3.10/dist-packages (from pydantic!=1.8,!=1.8.1,<3.0.0,>=1.7.4->spacy<3.8.0,>=3.7.0->ro-core-news-sm==3.7.0) (2.23.4)\n",
            "Requirement already satisfied: typing-extensions>=4.6.1 in /usr/local/lib/python3.10/dist-packages (from pydantic!=1.8,!=1.8.1,<3.0.0,>=1.7.4->spacy<3.8.0,>=3.7.0->ro-core-news-sm==3.7.0) (4.12.2)\n",
            "Requirement already satisfied: charset-normalizer<4,>=2 in /usr/local/lib/python3.10/dist-packages (from requests<3.0.0,>=2.13.0->spacy<3.8.0,>=3.7.0->ro-core-news-sm==3.7.0) (3.4.0)\n",
            "Requirement already satisfied: idna<4,>=2.5 in /usr/local/lib/python3.10/dist-packages (from requests<3.0.0,>=2.13.0->spacy<3.8.0,>=3.7.0->ro-core-news-sm==3.7.0) (3.10)\n",
            "Requirement already satisfied: urllib3<3,>=1.21.1 in /usr/local/lib/python3.10/dist-packages (from requests<3.0.0,>=2.13.0->spacy<3.8.0,>=3.7.0->ro-core-news-sm==3.7.0) (2.2.3)\n",
            "Requirement already satisfied: certifi>=2017.4.17 in /usr/local/lib/python3.10/dist-packages (from requests<3.0.0,>=2.13.0->spacy<3.8.0,>=3.7.0->ro-core-news-sm==3.7.0) (2024.8.30)\n",
            "Requirement already satisfied: blis<0.8.0,>=0.7.8 in /usr/local/lib/python3.10/dist-packages (from thinc<8.3.0,>=8.2.2->spacy<3.8.0,>=3.7.0->ro-core-news-sm==3.7.0) (0.7.11)\n",
            "Requirement already satisfied: confection<1.0.0,>=0.0.1 in /usr/local/lib/python3.10/dist-packages (from thinc<8.3.0,>=8.2.2->spacy<3.8.0,>=3.7.0->ro-core-news-sm==3.7.0) (0.1.5)\n",
            "Requirement already satisfied: click>=8.0.0 in /usr/local/lib/python3.10/dist-packages (from typer<1.0.0,>=0.3.0->spacy<3.8.0,>=3.7.0->ro-core-news-sm==3.7.0) (8.1.7)\n",
            "Requirement already satisfied: shellingham>=1.3.0 in /usr/local/lib/python3.10/dist-packages (from typer<1.0.0,>=0.3.0->spacy<3.8.0,>=3.7.0->ro-core-news-sm==3.7.0) (1.5.4)\n",
            "Requirement already satisfied: rich>=10.11.0 in /usr/local/lib/python3.10/dist-packages (from typer<1.0.0,>=0.3.0->spacy<3.8.0,>=3.7.0->ro-core-news-sm==3.7.0) (13.9.4)\n",
            "Requirement already satisfied: cloudpathlib<1.0.0,>=0.7.0 in /usr/local/lib/python3.10/dist-packages (from weasel<0.5.0,>=0.1.0->spacy<3.8.0,>=3.7.0->ro-core-news-sm==3.7.0) (0.20.0)\n",
            "Requirement already satisfied: smart-open<8.0.0,>=5.2.1 in /usr/local/lib/python3.10/dist-packages (from weasel<0.5.0,>=0.1.0->spacy<3.8.0,>=3.7.0->ro-core-news-sm==3.7.0) (7.0.5)\n",
            "Requirement already satisfied: MarkupSafe>=2.0 in /usr/local/lib/python3.10/dist-packages (from jinja2->spacy<3.8.0,>=3.7.0->ro-core-news-sm==3.7.0) (3.0.2)\n",
            "Requirement already satisfied: marisa-trie>=0.7.7 in /usr/local/lib/python3.10/dist-packages (from language-data>=1.2->langcodes<4.0.0,>=3.2.0->spacy<3.8.0,>=3.7.0->ro-core-news-sm==3.7.0) (1.2.1)\n",
            "Requirement already satisfied: markdown-it-py>=2.2.0 in /usr/local/lib/python3.10/dist-packages (from rich>=10.11.0->typer<1.0.0,>=0.3.0->spacy<3.8.0,>=3.7.0->ro-core-news-sm==3.7.0) (3.0.0)\n",
            "Requirement already satisfied: pygments<3.0.0,>=2.13.0 in /usr/local/lib/python3.10/dist-packages (from rich>=10.11.0->typer<1.0.0,>=0.3.0->spacy<3.8.0,>=3.7.0->ro-core-news-sm==3.7.0) (2.18.0)\n",
            "Requirement already satisfied: wrapt in /usr/local/lib/python3.10/dist-packages (from smart-open<8.0.0,>=5.2.1->weasel<0.5.0,>=0.1.0->spacy<3.8.0,>=3.7.0->ro-core-news-sm==3.7.0) (1.16.0)\n",
            "Requirement already satisfied: mdurl~=0.1 in /usr/local/lib/python3.10/dist-packages (from markdown-it-py>=2.2.0->rich>=10.11.0->typer<1.0.0,>=0.3.0->spacy<3.8.0,>=3.7.0->ro-core-news-sm==3.7.0) (0.1.2)\n",
            "Installing collected packages: ro-core-news-sm\n",
            "Successfully installed ro-core-news-sm-3.7.0\n",
            "\u001b[38;5;2m✔ Download and installation successful\u001b[0m\n",
            "You can now load the package via spacy.load('ro_core_news_sm')\n",
            "\u001b[38;5;3m⚠ Restart to reload dependencies\u001b[0m\n",
            "If you are in a Jupyter or Colab notebook, you may need to restart Python in\n",
            "order to load all the package's dependencies. You can do this by selecting the\n",
            "'Restart kernel' or 'Restart runtime' option.\n"
          ]
        }
      ]
    },
    {
      "cell_type": "code",
      "source": [
        "doc = nlp('Nu-l vedeam de umbrela')\n",
        "tokens = [token.text for token in doc]\n",
        "print(tokens)"
      ],
      "metadata": {
        "colab": {
          "base_uri": "https://localhost:8080/"
        },
        "id": "h_ShYQg_WLMf",
        "outputId": "624a42ae-82b7-4443-e112-3d5e1677f787"
      },
      "execution_count": null,
      "outputs": [
        {
          "output_type": "stream",
          "name": "stdout",
          "text": [
            "['Nu', '-l', 'vedeam', 'de', 'umbrela']\n"
          ]
        }
      ]
    },
    {
      "cell_type": "markdown",
      "source": [
        "## Eliminare stopwords"
      ],
      "metadata": {
        "id": "KdA7uY68WjVk"
      }
    },
    {
      "cell_type": "code",
      "source": [
        "from nltk.corpus import stopwords\n",
        "nltk.download('stopwords')\n",
        "print(stopwords.words('romanian'))"
      ],
      "metadata": {
        "colab": {
          "base_uri": "https://localhost:8080/"
        },
        "id": "y5x6V5f3WVA_",
        "outputId": "d57bee52-d6c3-4f24-9af0-9719f81d4472"
      },
      "execution_count": null,
      "outputs": [
        {
          "output_type": "stream",
          "name": "stdout",
          "text": [
            "['a', 'abia', 'acea', 'aceasta', 'această', 'aceea', 'aceeasi', 'acei', 'aceia', 'acel', 'acela', 'acelasi', 'acele', 'acelea', 'acest', 'acesta', 'aceste', 'acestea', 'acestei', 'acestia', 'acestui', 'aceşti', 'aceştia', 'adica', 'ai', 'aia', 'aibă', 'aici', 'al', 'ala', 'ale', 'alea', 'alt', 'alta', 'altceva', 'altcineva', 'alte', 'altfel', 'alti', 'altii', 'altul', 'am', 'anume', 'apoi', 'ar', 'are', 'as', 'asa', 'asta', 'astea', 'astfel', 'asupra', 'atare', 'atat', 'atata', 'atatea', 'atatia', 'ati', 'atit', 'atita', 'atitea', 'atitia', 'atunci', 'au', 'avea', 'avem', 'aveţi', 'avut', 'aş', 'aţi', 'ba', 'ca', 'cam', 'cand', 'care', 'careia', 'carora', 'caruia', 'cat', 'catre', 'ce', 'cea', 'ceea', 'cei', 'ceilalti', 'cel', 'cele', 'celor', 'ceva', 'chiar', 'ci', 'cind', 'cine', 'cineva', 'cit', 'cita', 'cite', 'citeva', 'citi', 'citiva', 'cu', 'cui', 'cum', 'cumva', 'cât', 'câte', 'câtva', 'câţi', 'cînd', 'cît', 'cîte', 'cîtva', 'cîţi', 'că', 'căci', 'cărei', 'căror', 'cărui', 'către', 'da', 'daca', 'dacă', 'dar', 'dat', 'dată', 'dau', 'de', 'deasupra', 'deci', 'decit', 'deja', 'desi', 'despre', 'deşi', 'din', 'dintr', 'dintr-', 'dintre', 'doar', 'doi', 'doilea', 'două', 'drept', 'dupa', 'după', 'dă', 'e', 'ea', 'ei', 'el', 'ele', 'era', 'eram', 'este', 'eu', 'eşti', 'face', 'fara', 'fata', 'fel', 'fi', 'fie', 'fiecare', 'fii', 'fim', 'fiu', 'fiţi', 'foarte', 'fost', 'fără', 'i', 'ia', 'iar', 'ii', 'il', 'imi', 'in', 'inainte', 'inapoi', 'inca', 'incit', 'insa', 'intr', 'intre', 'isi', 'iti', 'la', 'le', 'li', 'lor', 'lui', 'lângă', 'lîngă', 'm', 'ma', 'mai', 'mea', 'mei', 'mele', 'mereu', 'meu', 'mi', 'mie', 'mine', 'mod', 'mult', 'multa', 'multe', 'multi', 'multă', 'mulţi', 'mâine', 'mîine', 'mă', 'ne', 'ni', 'nici', 'nimeni', 'nimic', 'niste', 'nişte', 'noastre', 'noastră', 'noi', 'nostri', 'nostru', 'nou', 'noua', 'nouă', 'noştri', 'nu', 'numai', 'o', 'or', 'ori', 'oricare', 'orice', 'oricine', 'oricum', 'oricând', 'oricât', 'oricînd', 'oricît', 'oriunde', 'pai', 'parca', 'patra', 'patru', 'pe', 'pentru', 'peste', 'pic', 'pina', 'poate', 'pot', 'prea', 'prima', 'primul', 'prin', 'printr-', 'putini', 'puţin', 'puţina', 'puţină', 'până', 'pînă', 'sa', 'sa-mi', 'sa-ti', 'sai', 'sale', 'sau', 'se', 'si', 'sint', 'sintem', 'spate', 'spre', 'sub', 'sunt', 'suntem', 'sunteţi', 'sus', 'să', 'săi', 'său', 't', 'ta', 'tale', 'te', 'ti', 'tine', 'toata', 'toate', 'toată', 'tocmai', 'tot', 'toti', 'totul', 'totusi', 'totuşi', 'toţi', 'trei', 'treia', 'treilea', 'tu', 'tuturor', 'tăi', 'tău', 'u', 'ul', 'ului', 'un', 'una', 'unde', 'undeva', 'unei', 'uneia', 'unele', 'uneori', 'unii', 'unor', 'unora', 'unu', 'unui', 'unuia', 'unul', 'v', 'va', 'vi', 'voastre', 'voastră', 'voi', 'vom', 'vor', 'vostru', 'vouă', 'voştri', 'vreo', 'vreun', 'vă', 'zi', 'zice', 'îi', 'îl', 'îmi', 'în', 'îţi', 'ăla', 'ălea', 'ăsta', 'ăstea', 'ăştia', 'şi', 'ţi', 'ţie']\n"
          ]
        },
        {
          "output_type": "stream",
          "name": "stderr",
          "text": [
            "[nltk_data] Downloading package stopwords to /root/nltk_data...\n",
            "[nltk_data]   Unzipping corpora/stopwords.zip.\n"
          ]
        }
      ]
    },
    {
      "cell_type": "code",
      "source": [
        "text"
      ],
      "metadata": {
        "colab": {
          "base_uri": "https://localhost:8080/",
          "height": 53
        },
        "id": "FJYKhpMSW9SG",
        "outputId": "e6c651f1-edca-4bc6-c64b-72625aeb4cd1"
      },
      "execution_count": null,
      "outputs": [
        {
          "output_type": "execute_result",
          "data": {
            "text/plain": [
              "'Pentru a fi conduse pe drumurile publice, fiecare autovehicul, tractor agricol sau forestier şi tramvai trebuie să fie dotat cu trusă medicală de prim ajutor, două triunghiuri reflectorizante şi un stingător de incendiu, omologate.'"
            ],
            "application/vnd.google.colaboratory.intrinsic+json": {
              "type": "string"
            }
          },
          "metadata": {},
          "execution_count": 14
        }
      ]
    },
    {
      "cell_type": "code",
      "source": [
        "tokens = word_tokenize(text)"
      ],
      "metadata": {
        "id": "H8r74WxbXU5n"
      },
      "execution_count": null,
      "outputs": []
    },
    {
      "cell_type": "code",
      "source": [
        "tokens"
      ],
      "metadata": {
        "colab": {
          "base_uri": "https://localhost:8080/"
        },
        "id": "LiGfWM_yXduQ",
        "outputId": "41ae8105-cbb3-4808-db5a-ff7d56bf5de6"
      },
      "execution_count": null,
      "outputs": [
        {
          "output_type": "execute_result",
          "data": {
            "text/plain": [
              "['Pentru',\n",
              " 'a',\n",
              " 'fi',\n",
              " 'conduse',\n",
              " 'pe',\n",
              " 'drumurile',\n",
              " 'publice',\n",
              " ',',\n",
              " 'fiecare',\n",
              " 'autovehicul',\n",
              " ',',\n",
              " 'tractor',\n",
              " 'agricol',\n",
              " 'sau',\n",
              " 'forestier',\n",
              " 'şi',\n",
              " 'tramvai',\n",
              " 'trebuie',\n",
              " 'să',\n",
              " 'fie',\n",
              " 'dotat',\n",
              " 'cu',\n",
              " 'trusă',\n",
              " 'medicală',\n",
              " 'de',\n",
              " 'prim',\n",
              " 'ajutor',\n",
              " ',',\n",
              " 'două',\n",
              " 'triunghiuri',\n",
              " 'reflectorizante',\n",
              " 'şi',\n",
              " 'un',\n",
              " 'stingător',\n",
              " 'de',\n",
              " 'incendiu',\n",
              " ',',\n",
              " 'omologate',\n",
              " '.']"
            ]
          },
          "metadata": {},
          "execution_count": 16
        }
      ]
    },
    {
      "cell_type": "code",
      "source": [
        "stop_words_ro = stopwords.words('romanian')"
      ],
      "metadata": {
        "id": "TOvW1JHlXeb_"
      },
      "execution_count": null,
      "outputs": []
    },
    {
      "cell_type": "code",
      "source": [
        "stop_words_ro"
      ],
      "metadata": {
        "collapsed": true,
        "colab": {
          "base_uri": "https://localhost:8080/"
        },
        "id": "YvZLhkiVXjVX",
        "outputId": "b356fd5a-9393-43b8-c09d-c130ac1437e5"
      },
      "execution_count": null,
      "outputs": [
        {
          "output_type": "execute_result",
          "data": {
            "text/plain": [
              "['a',\n",
              " 'abia',\n",
              " 'acea',\n",
              " 'aceasta',\n",
              " 'această',\n",
              " 'aceea',\n",
              " 'aceeasi',\n",
              " 'acei',\n",
              " 'aceia',\n",
              " 'acel',\n",
              " 'acela',\n",
              " 'acelasi',\n",
              " 'acele',\n",
              " 'acelea',\n",
              " 'acest',\n",
              " 'acesta',\n",
              " 'aceste',\n",
              " 'acestea',\n",
              " 'acestei',\n",
              " 'acestia',\n",
              " 'acestui',\n",
              " 'aceşti',\n",
              " 'aceştia',\n",
              " 'adica',\n",
              " 'ai',\n",
              " 'aia',\n",
              " 'aibă',\n",
              " 'aici',\n",
              " 'al',\n",
              " 'ala',\n",
              " 'ale',\n",
              " 'alea',\n",
              " 'alt',\n",
              " 'alta',\n",
              " 'altceva',\n",
              " 'altcineva',\n",
              " 'alte',\n",
              " 'altfel',\n",
              " 'alti',\n",
              " 'altii',\n",
              " 'altul',\n",
              " 'am',\n",
              " 'anume',\n",
              " 'apoi',\n",
              " 'ar',\n",
              " 'are',\n",
              " 'as',\n",
              " 'asa',\n",
              " 'asta',\n",
              " 'astea',\n",
              " 'astfel',\n",
              " 'asupra',\n",
              " 'atare',\n",
              " 'atat',\n",
              " 'atata',\n",
              " 'atatea',\n",
              " 'atatia',\n",
              " 'ati',\n",
              " 'atit',\n",
              " 'atita',\n",
              " 'atitea',\n",
              " 'atitia',\n",
              " 'atunci',\n",
              " 'au',\n",
              " 'avea',\n",
              " 'avem',\n",
              " 'aveţi',\n",
              " 'avut',\n",
              " 'aş',\n",
              " 'aţi',\n",
              " 'ba',\n",
              " 'ca',\n",
              " 'cam',\n",
              " 'cand',\n",
              " 'care',\n",
              " 'careia',\n",
              " 'carora',\n",
              " 'caruia',\n",
              " 'cat',\n",
              " 'catre',\n",
              " 'ce',\n",
              " 'cea',\n",
              " 'ceea',\n",
              " 'cei',\n",
              " 'ceilalti',\n",
              " 'cel',\n",
              " 'cele',\n",
              " 'celor',\n",
              " 'ceva',\n",
              " 'chiar',\n",
              " 'ci',\n",
              " 'cind',\n",
              " 'cine',\n",
              " 'cineva',\n",
              " 'cit',\n",
              " 'cita',\n",
              " 'cite',\n",
              " 'citeva',\n",
              " 'citi',\n",
              " 'citiva',\n",
              " 'cu',\n",
              " 'cui',\n",
              " 'cum',\n",
              " 'cumva',\n",
              " 'cât',\n",
              " 'câte',\n",
              " 'câtva',\n",
              " 'câţi',\n",
              " 'cînd',\n",
              " 'cît',\n",
              " 'cîte',\n",
              " 'cîtva',\n",
              " 'cîţi',\n",
              " 'că',\n",
              " 'căci',\n",
              " 'cărei',\n",
              " 'căror',\n",
              " 'cărui',\n",
              " 'către',\n",
              " 'da',\n",
              " 'daca',\n",
              " 'dacă',\n",
              " 'dar',\n",
              " 'dat',\n",
              " 'dată',\n",
              " 'dau',\n",
              " 'de',\n",
              " 'deasupra',\n",
              " 'deci',\n",
              " 'decit',\n",
              " 'deja',\n",
              " 'desi',\n",
              " 'despre',\n",
              " 'deşi',\n",
              " 'din',\n",
              " 'dintr',\n",
              " 'dintr-',\n",
              " 'dintre',\n",
              " 'doar',\n",
              " 'doi',\n",
              " 'doilea',\n",
              " 'două',\n",
              " 'drept',\n",
              " 'dupa',\n",
              " 'după',\n",
              " 'dă',\n",
              " 'e',\n",
              " 'ea',\n",
              " 'ei',\n",
              " 'el',\n",
              " 'ele',\n",
              " 'era',\n",
              " 'eram',\n",
              " 'este',\n",
              " 'eu',\n",
              " 'eşti',\n",
              " 'face',\n",
              " 'fara',\n",
              " 'fata',\n",
              " 'fel',\n",
              " 'fi',\n",
              " 'fie',\n",
              " 'fiecare',\n",
              " 'fii',\n",
              " 'fim',\n",
              " 'fiu',\n",
              " 'fiţi',\n",
              " 'foarte',\n",
              " 'fost',\n",
              " 'fără',\n",
              " 'i',\n",
              " 'ia',\n",
              " 'iar',\n",
              " 'ii',\n",
              " 'il',\n",
              " 'imi',\n",
              " 'in',\n",
              " 'inainte',\n",
              " 'inapoi',\n",
              " 'inca',\n",
              " 'incit',\n",
              " 'insa',\n",
              " 'intr',\n",
              " 'intre',\n",
              " 'isi',\n",
              " 'iti',\n",
              " 'la',\n",
              " 'le',\n",
              " 'li',\n",
              " 'lor',\n",
              " 'lui',\n",
              " 'lângă',\n",
              " 'lîngă',\n",
              " 'm',\n",
              " 'ma',\n",
              " 'mai',\n",
              " 'mea',\n",
              " 'mei',\n",
              " 'mele',\n",
              " 'mereu',\n",
              " 'meu',\n",
              " 'mi',\n",
              " 'mie',\n",
              " 'mine',\n",
              " 'mod',\n",
              " 'mult',\n",
              " 'multa',\n",
              " 'multe',\n",
              " 'multi',\n",
              " 'multă',\n",
              " 'mulţi',\n",
              " 'mâine',\n",
              " 'mîine',\n",
              " 'mă',\n",
              " 'ne',\n",
              " 'ni',\n",
              " 'nici',\n",
              " 'nimeni',\n",
              " 'nimic',\n",
              " 'niste',\n",
              " 'nişte',\n",
              " 'noastre',\n",
              " 'noastră',\n",
              " 'noi',\n",
              " 'nostri',\n",
              " 'nostru',\n",
              " 'nou',\n",
              " 'noua',\n",
              " 'nouă',\n",
              " 'noştri',\n",
              " 'nu',\n",
              " 'numai',\n",
              " 'o',\n",
              " 'or',\n",
              " 'ori',\n",
              " 'oricare',\n",
              " 'orice',\n",
              " 'oricine',\n",
              " 'oricum',\n",
              " 'oricând',\n",
              " 'oricât',\n",
              " 'oricînd',\n",
              " 'oricît',\n",
              " 'oriunde',\n",
              " 'pai',\n",
              " 'parca',\n",
              " 'patra',\n",
              " 'patru',\n",
              " 'pe',\n",
              " 'pentru',\n",
              " 'peste',\n",
              " 'pic',\n",
              " 'pina',\n",
              " 'poate',\n",
              " 'pot',\n",
              " 'prea',\n",
              " 'prima',\n",
              " 'primul',\n",
              " 'prin',\n",
              " 'printr-',\n",
              " 'putini',\n",
              " 'puţin',\n",
              " 'puţina',\n",
              " 'puţină',\n",
              " 'până',\n",
              " 'pînă',\n",
              " 'sa',\n",
              " 'sa-mi',\n",
              " 'sa-ti',\n",
              " 'sai',\n",
              " 'sale',\n",
              " 'sau',\n",
              " 'se',\n",
              " 'si',\n",
              " 'sint',\n",
              " 'sintem',\n",
              " 'spate',\n",
              " 'spre',\n",
              " 'sub',\n",
              " 'sunt',\n",
              " 'suntem',\n",
              " 'sunteţi',\n",
              " 'sus',\n",
              " 'să',\n",
              " 'săi',\n",
              " 'său',\n",
              " 't',\n",
              " 'ta',\n",
              " 'tale',\n",
              " 'te',\n",
              " 'ti',\n",
              " 'tine',\n",
              " 'toata',\n",
              " 'toate',\n",
              " 'toată',\n",
              " 'tocmai',\n",
              " 'tot',\n",
              " 'toti',\n",
              " 'totul',\n",
              " 'totusi',\n",
              " 'totuşi',\n",
              " 'toţi',\n",
              " 'trei',\n",
              " 'treia',\n",
              " 'treilea',\n",
              " 'tu',\n",
              " 'tuturor',\n",
              " 'tăi',\n",
              " 'tău',\n",
              " 'u',\n",
              " 'ul',\n",
              " 'ului',\n",
              " 'un',\n",
              " 'una',\n",
              " 'unde',\n",
              " 'undeva',\n",
              " 'unei',\n",
              " 'uneia',\n",
              " 'unele',\n",
              " 'uneori',\n",
              " 'unii',\n",
              " 'unor',\n",
              " 'unora',\n",
              " 'unu',\n",
              " 'unui',\n",
              " 'unuia',\n",
              " 'unul',\n",
              " 'v',\n",
              " 'va',\n",
              " 'vi',\n",
              " 'voastre',\n",
              " 'voastră',\n",
              " 'voi',\n",
              " 'vom',\n",
              " 'vor',\n",
              " 'vostru',\n",
              " 'vouă',\n",
              " 'voştri',\n",
              " 'vreo',\n",
              " 'vreun',\n",
              " 'vă',\n",
              " 'zi',\n",
              " 'zice',\n",
              " 'îi',\n",
              " 'îl',\n",
              " 'îmi',\n",
              " 'în',\n",
              " 'îţi',\n",
              " 'ăla',\n",
              " 'ălea',\n",
              " 'ăsta',\n",
              " 'ăstea',\n",
              " 'ăştia',\n",
              " 'şi',\n",
              " 'ţi',\n",
              " 'ţie']"
            ]
          },
          "metadata": {},
          "execution_count": 18
        }
      ]
    },
    {
      "cell_type": "code",
      "source": [
        "no_stop_words = [word for word in tokens if word.lower() not in stop_words_ro]"
      ],
      "metadata": {
        "id": "mjQHLQbeXkNg"
      },
      "execution_count": null,
      "outputs": []
    },
    {
      "cell_type": "code",
      "source": [
        "no_stop_words"
      ],
      "metadata": {
        "colab": {
          "base_uri": "https://localhost:8080/"
        },
        "id": "1S8s8fPoX6fA",
        "outputId": "d2395ff7-ab29-4cd2-e565-f57f82e30034"
      },
      "execution_count": null,
      "outputs": [
        {
          "output_type": "execute_result",
          "data": {
            "text/plain": [
              "['conduse',\n",
              " 'drumurile',\n",
              " 'publice',\n",
              " ',',\n",
              " 'autovehicul',\n",
              " ',',\n",
              " 'tractor',\n",
              " 'agricol',\n",
              " 'forestier',\n",
              " 'tramvai',\n",
              " 'trebuie',\n",
              " 'dotat',\n",
              " 'trusă',\n",
              " 'medicală',\n",
              " 'prim',\n",
              " 'ajutor',\n",
              " ',',\n",
              " 'triunghiuri',\n",
              " 'reflectorizante',\n",
              " 'stingător',\n",
              " 'incendiu',\n",
              " ',',\n",
              " 'omologate',\n",
              " '.']"
            ]
          },
          "metadata": {},
          "execution_count": 20
        }
      ]
    },
    {
      "cell_type": "code",
      "source": [
        "stop_words_ro.extend(['asadar'])"
      ],
      "metadata": {
        "id": "XADz9x8ZX7YK"
      },
      "execution_count": null,
      "outputs": []
    },
    {
      "cell_type": "code",
      "source": [
        "stop_words_ro"
      ],
      "metadata": {
        "colab": {
          "base_uri": "https://localhost:8080/"
        },
        "collapsed": true,
        "id": "6GpabtvKYTfe",
        "outputId": "763bac66-b316-443d-da41-5e48a39547b2"
      },
      "execution_count": null,
      "outputs": [
        {
          "output_type": "execute_result",
          "data": {
            "text/plain": [
              "['a',\n",
              " 'abia',\n",
              " 'acea',\n",
              " 'aceasta',\n",
              " 'această',\n",
              " 'aceea',\n",
              " 'aceeasi',\n",
              " 'acei',\n",
              " 'aceia',\n",
              " 'acel',\n",
              " 'acela',\n",
              " 'acelasi',\n",
              " 'acele',\n",
              " 'acelea',\n",
              " 'acest',\n",
              " 'acesta',\n",
              " 'aceste',\n",
              " 'acestea',\n",
              " 'acestei',\n",
              " 'acestia',\n",
              " 'acestui',\n",
              " 'aceşti',\n",
              " 'aceştia',\n",
              " 'adica',\n",
              " 'ai',\n",
              " 'aia',\n",
              " 'aibă',\n",
              " 'aici',\n",
              " 'al',\n",
              " 'ala',\n",
              " 'ale',\n",
              " 'alea',\n",
              " 'alt',\n",
              " 'alta',\n",
              " 'altceva',\n",
              " 'altcineva',\n",
              " 'alte',\n",
              " 'altfel',\n",
              " 'alti',\n",
              " 'altii',\n",
              " 'altul',\n",
              " 'am',\n",
              " 'anume',\n",
              " 'apoi',\n",
              " 'ar',\n",
              " 'are',\n",
              " 'as',\n",
              " 'asa',\n",
              " 'asta',\n",
              " 'astea',\n",
              " 'astfel',\n",
              " 'asupra',\n",
              " 'atare',\n",
              " 'atat',\n",
              " 'atata',\n",
              " 'atatea',\n",
              " 'atatia',\n",
              " 'ati',\n",
              " 'atit',\n",
              " 'atita',\n",
              " 'atitea',\n",
              " 'atitia',\n",
              " 'atunci',\n",
              " 'au',\n",
              " 'avea',\n",
              " 'avem',\n",
              " 'aveţi',\n",
              " 'avut',\n",
              " 'aş',\n",
              " 'aţi',\n",
              " 'ba',\n",
              " 'ca',\n",
              " 'cam',\n",
              " 'cand',\n",
              " 'care',\n",
              " 'careia',\n",
              " 'carora',\n",
              " 'caruia',\n",
              " 'cat',\n",
              " 'catre',\n",
              " 'ce',\n",
              " 'cea',\n",
              " 'ceea',\n",
              " 'cei',\n",
              " 'ceilalti',\n",
              " 'cel',\n",
              " 'cele',\n",
              " 'celor',\n",
              " 'ceva',\n",
              " 'chiar',\n",
              " 'ci',\n",
              " 'cind',\n",
              " 'cine',\n",
              " 'cineva',\n",
              " 'cit',\n",
              " 'cita',\n",
              " 'cite',\n",
              " 'citeva',\n",
              " 'citi',\n",
              " 'citiva',\n",
              " 'cu',\n",
              " 'cui',\n",
              " 'cum',\n",
              " 'cumva',\n",
              " 'cât',\n",
              " 'câte',\n",
              " 'câtva',\n",
              " 'câţi',\n",
              " 'cînd',\n",
              " 'cît',\n",
              " 'cîte',\n",
              " 'cîtva',\n",
              " 'cîţi',\n",
              " 'că',\n",
              " 'căci',\n",
              " 'cărei',\n",
              " 'căror',\n",
              " 'cărui',\n",
              " 'către',\n",
              " 'da',\n",
              " 'daca',\n",
              " 'dacă',\n",
              " 'dar',\n",
              " 'dat',\n",
              " 'dată',\n",
              " 'dau',\n",
              " 'de',\n",
              " 'deasupra',\n",
              " 'deci',\n",
              " 'decit',\n",
              " 'deja',\n",
              " 'desi',\n",
              " 'despre',\n",
              " 'deşi',\n",
              " 'din',\n",
              " 'dintr',\n",
              " 'dintr-',\n",
              " 'dintre',\n",
              " 'doar',\n",
              " 'doi',\n",
              " 'doilea',\n",
              " 'două',\n",
              " 'drept',\n",
              " 'dupa',\n",
              " 'după',\n",
              " 'dă',\n",
              " 'e',\n",
              " 'ea',\n",
              " 'ei',\n",
              " 'el',\n",
              " 'ele',\n",
              " 'era',\n",
              " 'eram',\n",
              " 'este',\n",
              " 'eu',\n",
              " 'eşti',\n",
              " 'face',\n",
              " 'fara',\n",
              " 'fata',\n",
              " 'fel',\n",
              " 'fi',\n",
              " 'fie',\n",
              " 'fiecare',\n",
              " 'fii',\n",
              " 'fim',\n",
              " 'fiu',\n",
              " 'fiţi',\n",
              " 'foarte',\n",
              " 'fost',\n",
              " 'fără',\n",
              " 'i',\n",
              " 'ia',\n",
              " 'iar',\n",
              " 'ii',\n",
              " 'il',\n",
              " 'imi',\n",
              " 'in',\n",
              " 'inainte',\n",
              " 'inapoi',\n",
              " 'inca',\n",
              " 'incit',\n",
              " 'insa',\n",
              " 'intr',\n",
              " 'intre',\n",
              " 'isi',\n",
              " 'iti',\n",
              " 'la',\n",
              " 'le',\n",
              " 'li',\n",
              " 'lor',\n",
              " 'lui',\n",
              " 'lângă',\n",
              " 'lîngă',\n",
              " 'm',\n",
              " 'ma',\n",
              " 'mai',\n",
              " 'mea',\n",
              " 'mei',\n",
              " 'mele',\n",
              " 'mereu',\n",
              " 'meu',\n",
              " 'mi',\n",
              " 'mie',\n",
              " 'mine',\n",
              " 'mod',\n",
              " 'mult',\n",
              " 'multa',\n",
              " 'multe',\n",
              " 'multi',\n",
              " 'multă',\n",
              " 'mulţi',\n",
              " 'mâine',\n",
              " 'mîine',\n",
              " 'mă',\n",
              " 'ne',\n",
              " 'ni',\n",
              " 'nici',\n",
              " 'nimeni',\n",
              " 'nimic',\n",
              " 'niste',\n",
              " 'nişte',\n",
              " 'noastre',\n",
              " 'noastră',\n",
              " 'noi',\n",
              " 'nostri',\n",
              " 'nostru',\n",
              " 'nou',\n",
              " 'noua',\n",
              " 'nouă',\n",
              " 'noştri',\n",
              " 'nu',\n",
              " 'numai',\n",
              " 'o',\n",
              " 'or',\n",
              " 'ori',\n",
              " 'oricare',\n",
              " 'orice',\n",
              " 'oricine',\n",
              " 'oricum',\n",
              " 'oricând',\n",
              " 'oricât',\n",
              " 'oricînd',\n",
              " 'oricît',\n",
              " 'oriunde',\n",
              " 'pai',\n",
              " 'parca',\n",
              " 'patra',\n",
              " 'patru',\n",
              " 'pe',\n",
              " 'pentru',\n",
              " 'peste',\n",
              " 'pic',\n",
              " 'pina',\n",
              " 'poate',\n",
              " 'pot',\n",
              " 'prea',\n",
              " 'prima',\n",
              " 'primul',\n",
              " 'prin',\n",
              " 'printr-',\n",
              " 'putini',\n",
              " 'puţin',\n",
              " 'puţina',\n",
              " 'puţină',\n",
              " 'până',\n",
              " 'pînă',\n",
              " 'sa',\n",
              " 'sa-mi',\n",
              " 'sa-ti',\n",
              " 'sai',\n",
              " 'sale',\n",
              " 'sau',\n",
              " 'se',\n",
              " 'si',\n",
              " 'sint',\n",
              " 'sintem',\n",
              " 'spate',\n",
              " 'spre',\n",
              " 'sub',\n",
              " 'sunt',\n",
              " 'suntem',\n",
              " 'sunteţi',\n",
              " 'sus',\n",
              " 'să',\n",
              " 'săi',\n",
              " 'său',\n",
              " 't',\n",
              " 'ta',\n",
              " 'tale',\n",
              " 'te',\n",
              " 'ti',\n",
              " 'tine',\n",
              " 'toata',\n",
              " 'toate',\n",
              " 'toată',\n",
              " 'tocmai',\n",
              " 'tot',\n",
              " 'toti',\n",
              " 'totul',\n",
              " 'totusi',\n",
              " 'totuşi',\n",
              " 'toţi',\n",
              " 'trei',\n",
              " 'treia',\n",
              " 'treilea',\n",
              " 'tu',\n",
              " 'tuturor',\n",
              " 'tăi',\n",
              " 'tău',\n",
              " 'u',\n",
              " 'ul',\n",
              " 'ului',\n",
              " 'un',\n",
              " 'una',\n",
              " 'unde',\n",
              " 'undeva',\n",
              " 'unei',\n",
              " 'uneia',\n",
              " 'unele',\n",
              " 'uneori',\n",
              " 'unii',\n",
              " 'unor',\n",
              " 'unora',\n",
              " 'unu',\n",
              " 'unui',\n",
              " 'unuia',\n",
              " 'unul',\n",
              " 'v',\n",
              " 'va',\n",
              " 'vi',\n",
              " 'voastre',\n",
              " 'voastră',\n",
              " 'voi',\n",
              " 'vom',\n",
              " 'vor',\n",
              " 'vostru',\n",
              " 'vouă',\n",
              " 'voştri',\n",
              " 'vreo',\n",
              " 'vreun',\n",
              " 'vă',\n",
              " 'zi',\n",
              " 'zice',\n",
              " 'îi',\n",
              " 'îl',\n",
              " 'îmi',\n",
              " 'în',\n",
              " 'îţi',\n",
              " 'ăla',\n",
              " 'ălea',\n",
              " 'ăsta',\n",
              " 'ăstea',\n",
              " 'ăştia',\n",
              " 'şi',\n",
              " 'ţi',\n",
              " 'ţie',\n",
              " 'asadar']"
            ]
          },
          "metadata": {},
          "execution_count": 22
        }
      ]
    },
    {
      "cell_type": "markdown",
      "source": [
        "## Steeming si Lemantizare"
      ],
      "metadata": {
        "id": "JSU2pXF0cPml"
      }
    },
    {
      "cell_type": "code",
      "source": [
        "!pip install simplemma"
      ],
      "metadata": {
        "colab": {
          "base_uri": "https://localhost:8080/"
        },
        "id": "ymblA0mmYVLu",
        "outputId": "12482fe0-8ce0-464c-cc96-d8fe0d67e9b1"
      },
      "execution_count": null,
      "outputs": [
        {
          "output_type": "stream",
          "name": "stdout",
          "text": [
            "Collecting simplemma\n",
            "  Downloading simplemma-1.1.2-py3-none-any.whl.metadata (23 kB)\n",
            "Downloading simplemma-1.1.2-py3-none-any.whl (67.2 MB)\n",
            "\u001b[2K   \u001b[90m━━━━━━━━━━━━━━━━━━━━━━━━━━━━━━━━━━━━━━━━\u001b[0m \u001b[32m67.2/67.2 MB\u001b[0m \u001b[31m12.0 MB/s\u001b[0m eta \u001b[36m0:00:00\u001b[0m\n",
            "\u001b[?25hInstalling collected packages: simplemma\n",
            "Successfully installed simplemma-1.1.2\n"
          ]
        }
      ]
    },
    {
      "cell_type": "code",
      "source": [
        "import simplemma\n",
        "\n",
        "lemm_text = [simplemma.lemmatize(token, 'ro') for token in no_stop_words]"
      ],
      "metadata": {
        "id": "lRungnW_ccSS"
      },
      "execution_count": null,
      "outputs": []
    },
    {
      "cell_type": "code",
      "source": [
        "print(no_stop_words)\n",
        "print('-----------------')\n",
        "print(lemm_text)\n",
        "## Nu aduce cuvintele la forma de baza in limba romana care nu sunt scrise cu diacritice unde este cazul."
      ],
      "metadata": {
        "colab": {
          "base_uri": "https://localhost:8080/"
        },
        "id": "S6ZXS37qcwop",
        "outputId": "1d89db44-aaeb-4cea-a3d2-12048d2ff880"
      },
      "execution_count": null,
      "outputs": [
        {
          "output_type": "stream",
          "name": "stdout",
          "text": [
            "['conduse', 'drumurile', 'publice', ',', 'autovehicul', ',', 'tractor', 'agricol', 'forestier', 'tramvai', 'trebuie', 'dotat', 'trusă', 'medicală', 'prim', 'ajutor', ',', 'triunghiuri', 'reflectorizante', 'stingător', 'incendiu', ',', 'omologate', '.']\n",
            "-----------------\n",
            "['conduce', 'drum', 'publica', ',', 'autovehicul', ',', 'tractor', 'agricol', 'forestier', 'tramvai', 'trebui', 'dota', 'trusă', 'medical', 'prim', 'ajutor', ',', 'triunghi', 'reflectorizante', 'stingător', 'incendiu', ',', 'omologat', '.']\n"
          ]
        }
      ]
    },
    {
      "cell_type": "markdown",
      "source": [
        "## N-Grams"
      ],
      "metadata": {
        "id": "AK2cGSTXdi4N"
      }
    },
    {
      "cell_type": "code",
      "source": [
        "from nltk.util import ngrams\n",
        "\n",
        "n = 2\n",
        "bigrams = list(ngrams(tokens, n))\n",
        "print(bigrams)\n",
        "## modele probabilistice de limbaj, care estimează probabilitatea unui cuvânt bazată pe cuvintele anterioare.\n",
        "## identifica erorile de ortografie sau gramaticale prin compararea secvențelor de cuvinte dintr-un text cu cele dintr-un corpus lingvistic.\n",
        "## Compararea secvențelor de n-grams din două texte poate fi folosită pentru a măsura similaritatea între ele in aplicatii antiplagiat."
      ],
      "metadata": {
        "colab": {
          "base_uri": "https://localhost:8080/"
        },
        "id": "FhfOzBTRc7lY",
        "outputId": "c28ccc1f-776d-4ead-cf34-accafac33918"
      },
      "execution_count": null,
      "outputs": [
        {
          "output_type": "stream",
          "name": "stdout",
          "text": [
            "[('Pentru', 'a'), ('a', 'fi'), ('fi', 'conduse'), ('conduse', 'pe'), ('pe', 'drumurile'), ('drumurile', 'publice'), ('publice', ','), (',', 'fiecare'), ('fiecare', 'autovehicul'), ('autovehicul', ','), (',', 'tractor'), ('tractor', 'agricol'), ('agricol', 'sau'), ('sau', 'forestier'), ('forestier', 'şi'), ('şi', 'tramvai'), ('tramvai', 'trebuie'), ('trebuie', 'să'), ('să', 'fie'), ('fie', 'dotat'), ('dotat', 'cu'), ('cu', 'trusă'), ('trusă', 'medicală'), ('medicală', 'de'), ('de', 'prim'), ('prim', 'ajutor'), ('ajutor', ','), (',', 'două'), ('două', 'triunghiuri'), ('triunghiuri', 'reflectorizante'), ('reflectorizante', 'şi'), ('şi', 'un'), ('un', 'stingător'), ('stingător', 'de'), ('de', 'incendiu'), ('incendiu', ','), (',', 'omologate'), ('omologate', '.')]\n"
          ]
        }
      ]
    },
    {
      "cell_type": "markdown",
      "source": [
        "## TF-IDF"
      ],
      "metadata": {
        "id": "DxtMuyk9frJn"
      }
    },
    {
      "cell_type": "code",
      "source": [
        "from sklearn.feature_extraction.text import TfidfVectorizer\n",
        "\n",
        "statements = [\"Deep learning este un subdomeniu al machine learning.\",\n",
        "              \"Inteligenta artificiala si machine learning sunt in stransa legatura una cu alta.\"\n",
        "              ]\n",
        "vectorizer = TfidfVectorizer()\n",
        "tfidf_matrix = vectorizer.fit_transform(statements)\n",
        "\n",
        "feature_names = vectorizer.get_feature_names_out()\n",
        "\n",
        "for doc_index, doc in enumerate(tfidf_matrix):\n",
        "  print(f\"Document: {doc_index + 1}\")\n",
        "  for word_index in doc.nonzero()[1]:\n",
        "    print(f\" {feature_names[word_index]} : {doc[0, word_index]}\")"
      ],
      "metadata": {
        "colab": {
          "base_uri": "https://localhost:8080/"
        },
        "id": "O3Uf02CDd1bM",
        "outputId": "bf023be9-44b2-4dcb-dc25-26074c2e838d"
      },
      "execution_count": null,
      "outputs": [
        {
          "output_type": "stream",
          "name": "stdout",
          "text": [
            "Document: 1\n",
            " deep : 0.36439074431816804\n",
            " learning : 0.5185340314974572\n",
            " este : 0.36439074431816804\n",
            " un : 0.36439074431816804\n",
            " subdomeniu : 0.36439074431816804\n",
            " al : 0.36439074431816804\n",
            " machine : 0.2592670157487286\n",
            "Document: 2\n",
            " learning : 0.2144061353375654\n",
            " machine : 0.2144061353375654\n",
            " inteligenta : 0.3013403421812651\n",
            " artificiala : 0.3013403421812651\n",
            " si : 0.3013403421812651\n",
            " sunt : 0.3013403421812651\n",
            " in : 0.3013403421812651\n",
            " stransa : 0.3013403421812651\n",
            " legatura : 0.3013403421812651\n",
            " una : 0.3013403421812651\n",
            " cu : 0.3013403421812651\n",
            " alta : 0.3013403421812651\n"
          ]
        }
      ]
    },
    {
      "cell_type": "code",
      "source": [
        "tfidf_matrix.toarray()"
      ],
      "metadata": {
        "colab": {
          "base_uri": "https://localhost:8080/"
        },
        "id": "IugWZ-CnhTvn",
        "outputId": "8b4bfd6f-2a0d-446a-ac47-82cb93505f5a"
      },
      "execution_count": null,
      "outputs": [
        {
          "output_type": "execute_result",
          "data": {
            "text/plain": [
              "array([[0.36439074, 0.        , 0.        , 0.        , 0.36439074,\n",
              "        0.36439074, 0.        , 0.        , 0.51853403, 0.        ,\n",
              "        0.25926702, 0.        , 0.        , 0.36439074, 0.        ,\n",
              "        0.36439074, 0.        ],\n",
              "       [0.        , 0.30134034, 0.30134034, 0.30134034, 0.        ,\n",
              "        0.        , 0.30134034, 0.30134034, 0.21440614, 0.30134034,\n",
              "        0.21440614, 0.30134034, 0.30134034, 0.        , 0.30134034,\n",
              "        0.        , 0.30134034]])"
            ]
          },
          "metadata": {},
          "execution_count": 33
        }
      ]
    },
    {
      "cell_type": "code",
      "source": [
        "tfidf_matrix"
      ],
      "metadata": {
        "colab": {
          "base_uri": "https://localhost:8080/"
        },
        "id": "JZdedjdBhU4l",
        "outputId": "22680111-15e3-4bbe-d061-22d5341fe295"
      },
      "execution_count": null,
      "outputs": [
        {
          "output_type": "execute_result",
          "data": {
            "text/plain": [
              "<2x17 sparse matrix of type '<class 'numpy.float64'>'\n",
              "\twith 19 stored elements in Compressed Sparse Row format>"
            ]
          },
          "metadata": {},
          "execution_count": 35
        }
      ]
    },
    {
      "cell_type": "markdown",
      "source": [
        "## Information retrieval"
      ],
      "metadata": {
        "id": "MKrjeO83kp6s"
      }
    },
    {
      "cell_type": "code",
      "source": [
        "import os\n",
        "\n",
        "folder_path = 'legislatie'\n",
        "\n",
        "documents = []\n",
        "\n",
        "for filename in os.listdir(folder_path):\n",
        "  file_path = os.path.join(folder_path, filename)\n",
        "\n",
        "  with open(file_path, 'r', encoding='utf-8') as file:\n",
        "    content = file.read()\n",
        "    documents.append(content)\n",
        "\n"
      ],
      "metadata": {
        "id": "p_QZgBs0h9WP"
      },
      "execution_count": null,
      "outputs": []
    },
    {
      "cell_type": "code",
      "source": [],
      "metadata": {
        "colab": {
          "base_uri": "https://localhost:8080/"
        },
        "id": "J0Ejc4HNlO6m",
        "outputId": "30d94a20-fc57-4d6a-93be-fe41d5ffd881"
      },
      "execution_count": null,
      "outputs": [
        {
          "output_type": "execute_result",
          "data": {
            "text/plain": [
              "6"
            ]
          },
          "metadata": {},
          "execution_count": 38
        }
      ]
    },
    {
      "cell_type": "code",
      "source": [
        "## Eliminam semnele de punctuatie, indexul de lista, facem toate literele mici, lematizam\n",
        "import re\n",
        "\n",
        "def preprocess_text(text):\n",
        "  # Transformam textul in litere mici\n",
        "  text = text.lower()\n",
        "\n",
        "  # Eliminam capetele de lista\n",
        "  text = re.sub(r\"\\(\\d+(\\.\\d+)*\\)\", \"\", text)\n",
        "\n",
        "  # Eliminam stopwords si lemantizam\n",
        "\n",
        "  doc_tokens = [token.text for token in nlp(text)]\n",
        "  doc_tokens_no_stop = [word for word in doc_tokens if word not in stop_words_ro]\n",
        "  text = \" \".join([simplemma.lemmatize(token, 'ro') for token in doc_tokens_no_stop])\n",
        "  ## Elimina de la inceput si de la sfarsit spatiile albe\n",
        "\n",
        "  ## Eliminam semnele de puctuatie\n",
        "  text = re.sub(r\"[.,!?;:#([{)}]\", \"\", text)\n",
        "\n",
        "  ## Eliminam caracter linie noua\n",
        "  text = text.replace('\\n', ' ')\n",
        "  text = re.sub(r\"\\s+\", \" \", text).strip()\n",
        "  ## Strip elimina de la inceput si de la sfarsit spatiile albe\n",
        "  return text\n",
        "\n",
        "preprocess_text(documents[0])\n",
        "\n"
      ],
      "metadata": {
        "colab": {
          "base_uri": "https://localhost:8080/",
          "height": 174
        },
        "id": "epml2HFYlP3B",
        "outputId": "9c5586f7-d66e-4058-9415-48c5bc499c5e"
      },
      "execution_count": null,
      "outputs": [
        {
          "output_type": "execute_result",
          "data": {
            "text/plain": [
              "'înmatriculat înregistrat admisă circulaţie autovehicul remorcă tramvai trebui omologat condiţiile lege exceptat prevedere alin vehicul lent maşinile autoropulsate omologarea opțional caz vehicul prevăzut articol 13 alin îndeplini condiție prevăzut articol 2 alin literatură d și alin literatură bel regulament ue 2018/858 parlament european și consiliu 30 2018 privi omologarea și supraveghere piață autovehicul și remorcă acesta precum și sistem componente și unitate tehnic separat destinat vehicul respectiv modificare regulament numărul 715/2007 și numărul 595/2009 și abrogare directivă 2007/46/ce precum și caz îndeplini condiție prevăzut articol 2 alin literatură regulament ue numărul 168/2013 parlament european și consiliu 15 ianuarie 2013 privi omologarea și supraveghere piață vehicul roată și cvadricicluri categorie vehicul admisă circulaţie omologat stabili ordin ministru transport construcţiilor turism aviz minister administraţiei intern - inspectorat general poliţiei român publica monitor oficial România parte Ion document atesta omologarea carte identitate vehicul eliberat condiţiile lege menținut circulație vehicul înmatriculat înregistrat excepție mașină autopropulsat viteză maxim constructiv depăși 25 km/h autovehicul șenilă tramvai și vehicul tracțiune animală supune inspecție tehnic periodic conform legislație vigoare inspecţia tehnic periodic efectua staţii autorizat reprezentanţe rar conform legislaţiei vigoare autovehicul tractor agricol forestier aparţinând instituţiilor sistem apărare ordin publica siguranţă naţională inspecţia tehnic periodic efectua staţii propriu autorizat potrivi lege'"
            ],
            "application/vnd.google.colaboratory.intrinsic+json": {
              "type": "string"
            }
          },
          "metadata": {},
          "execution_count": 46
        }
      ]
    },
    {
      "cell_type": "code",
      "source": [
        "documents[0]"
      ],
      "metadata": {
        "colab": {
          "base_uri": "https://localhost:8080/",
          "height": 226
        },
        "id": "ZpeUDcjjm23Q",
        "outputId": "75535d54-5228-4866-a327-99663707060c"
      },
      "execution_count": null,
      "outputs": [
        {
          "output_type": "execute_result",
          "data": {
            "text/plain": [
              "'(1) Pentru a fi înmatriculate, înregistrate sau admise în circulaţie, autovehiculele, remorcile şi tramvaiele trebuie să fie omologate în condiţiile legii.\\n(1.1) Sunt exceptate de la prevederile alin. (1) vehiculele lente şi maşinile autoropulsate.\\n(1.2) Omologarea este opțională în cazul vehiculelor prevăzute la art. 13 alin. (3) care îndeplinesc condițiile prevăzute la art. 2 alin. (2) lit. d) și alin. (3) lit. b) din Regulamentul (UE) 2018/858 al Parlamentului European și al Consiliului din 30 mai 2018 privind omologarea și supravegherea pieței autovehiculelor și remorcilor acestora, precum și ale sistemelor, componentelor și unităților tehnice separate destinate vehiculelor respective, de modificare a Regulamentelor (CE) nr. 715/2007 și (CE) nr. 595/2009 și de abrogare a Directivei 2007/46/CE, precum și în cazul celor care îndeplinesc condițiile prevăzute la art. 2 alin. (2) lit. e) din Regulamentul (UE) nr. 168/2013 al Parlamentului European și al Consiliului din 15 ianuarie 2013 privind omologarea și supravegherea pieței pentru vehiculele cu două sau trei roți și pentru cvadricicluri.\\n(2) Categoriile de vehicule care pot fi admise în circulaţie fără a fi omologate se stabilesc prin ordin al ministrului transporturilor, construcţiilor şi turismului, cu avizul Ministerului Administraţiei şi Internelor - Inspectoratul General al Poliţiei Române, care se publică în Monitorul Oficial al României, Partea I.\\n(3) Documentul care atestă omologarea este cartea de identitate a vehiculului, eliberată în condiţiile legii.\\n(4) Pentru a fi menținute în circulație, vehiculele înmatriculate sau înregistrate, cu excepția mașinilor autopropulsate cu o viteză maximă constructivă care nu depășește 25 km/h, a autovehiculelor cu șenile, a tramvaielor și a vehiculelor cu tracțiune animală, se supun inspecției tehnice periodice, conform legislației în vigoare.\\n(5) Inspecţia tehnică periodică se efectuează în staţii autorizate sau în reprezentanţe R.A.R., conform legislaţiei în vigoare.\\n(6) Pentru autovehiculele şi tractoarele agricole sau forestiere aparţinând instituţiilor din sistemul de apărare, ordine publică şi siguranţă naţională, inspecţia tehnică periodică se poate efectua şi în staţii proprii, autorizate potrivit legii.'"
            ],
            "application/vnd.google.colaboratory.intrinsic+json": {
              "type": "string"
            }
          },
          "metadata": {},
          "execution_count": 39
        }
      ]
    },
    {
      "cell_type": "code",
      "source": [
        "from sklearn.metrics.pairwise import cosine_similarity\n",
        "\n",
        "question = 'Cu ce trebuie sa fie dotat un automobil pentru a fi condus pe drumuri publice?'\n",
        "corpus = documents + [question]\n",
        "\n",
        "processed_corpus = [preprocess_text(context) for context in corpus]\n",
        "## Se calculeaza vectorii TF-IDF\n",
        "tfidf_matrix = vectorizer.fit_transform(processed_corpus)\n",
        "\n",
        "## Calculam similaritatile intre intrebare si fiecare document\n",
        "question_vector = tfidf_matrix[-1]\n",
        "scores = cosine_similarity(tfidf_matrix[:-1], question_vector)\n",
        "\n",
        "## Identificam documentul cel mai relevant\n",
        "most_relevant_doc_index = scores.argmax()\n",
        "\n",
        "print(f\"Cel mai relevant document: {documents[most_relevant_doc_index]}\")\n",
        "print(f\"Relevanta: {scores[most_relevant_doc_index][0]}\")\n"
      ],
      "metadata": {
        "colab": {
          "base_uri": "https://localhost:8080/"
        },
        "id": "PdOm2b6qm4R1",
        "outputId": "ab7134e6-ea1e-4737-f4a3-80ca94cbca70"
      },
      "execution_count": null,
      "outputs": [
        {
          "output_type": "stream",
          "name": "stdout",
          "text": [
            "Cel mai relevant document: Pentru a fi conduse pe drumurile publice, fiecare autovehicul, tractor agricol sau forestier şi tramvai trebuie să fie dotat cu trusă medicală de prim ajutor, două triunghiuri reflectorizante şi un stingător de incendiu, omologate.\n",
            "Relevanta: 0.35043661921245417\n"
          ]
        }
      ]
    },
    {
      "cell_type": "markdown",
      "source": [
        "## WordNet"
      ],
      "metadata": {
        "id": "UB9FnbX0tZl_"
      }
    },
    {
      "cell_type": "code",
      "source": [
        "from nltk.corpus import wordnet as wn\n",
        "nltk.download('wordnet')"
      ],
      "metadata": {
        "colab": {
          "base_uri": "https://localhost:8080/"
        },
        "id": "o6H4MgrUtIV_",
        "outputId": "b58ad552-0e41-420b-9b5d-2db347cc7018"
      },
      "execution_count": null,
      "outputs": [
        {
          "output_type": "stream",
          "name": "stderr",
          "text": [
            "[nltk_data] Downloading package wordnet to /root/nltk_data...\n"
          ]
        },
        {
          "output_type": "execute_result",
          "data": {
            "text/plain": [
              "True"
            ]
          },
          "metadata": {},
          "execution_count": 53
        }
      ]
    },
    {
      "cell_type": "code",
      "source": [
        "## Sinonime\n",
        "wn.synsets('bike')"
      ],
      "metadata": {
        "colab": {
          "base_uri": "https://localhost:8080/"
        },
        "id": "8ZHl5DQZtvPp",
        "outputId": "5e9256cd-ab48-4109-a1a3-5ac16ee686c6"
      },
      "execution_count": null,
      "outputs": [
        {
          "output_type": "execute_result",
          "data": {
            "text/plain": [
              "[Synset('motorcycle.n.01'), Synset('bicycle.n.01'), Synset('bicycle.v.01')]"
            ]
          },
          "metadata": {},
          "execution_count": 54
        }
      ]
    },
    {
      "cell_type": "code",
      "source": [
        "wn.synsets('printer')"
      ],
      "metadata": {
        "colab": {
          "base_uri": "https://localhost:8080/"
        },
        "id": "3Vxvk4Wat4SO",
        "outputId": "05c7f5a4-4d5c-485d-f7fc-f81812940865"
      },
      "execution_count": null,
      "outputs": [
        {
          "output_type": "execute_result",
          "data": {
            "text/plain": [
              "[Synset('printer.n.01'), Synset('printer.n.02'), Synset('printer.n.03')]"
            ]
          },
          "metadata": {},
          "execution_count": 55
        }
      ]
    },
    {
      "cell_type": "code",
      "source": [
        "bike_syn = wn.synsets('bike')"
      ],
      "metadata": {
        "id": "ycb-DP6BuJlJ"
      },
      "execution_count": null,
      "outputs": []
    },
    {
      "cell_type": "code",
      "source": [
        "for syn in bike_syn:\n",
        "  print('Lemma: {}'.format(syn.name()))\n",
        "  print(\"Definition: {}\".format(syn.definition()))\n",
        "\n"
      ],
      "metadata": {
        "colab": {
          "base_uri": "https://localhost:8080/"
        },
        "id": "8uKW6Ed_uQ-r",
        "outputId": "329e7cb0-4012-4c37-b002-3864e1ea3a5e"
      },
      "execution_count": null,
      "outputs": [
        {
          "output_type": "stream",
          "name": "stdout",
          "text": [
            "Lemma: motorcycle.n.01\n",
            "Definition: a motor vehicle with two wheels and a strong frame\n",
            "Lemma: bicycle.n.01\n",
            "Definition: a wheeled vehicle that has two wheels and is moved by foot pedals\n",
            "Lemma: bicycle.v.01\n",
            "Definition: ride a bicycle\n"
          ]
        }
      ]
    },
    {
      "cell_type": "code",
      "source": [
        "## Antonime\n",
        "antonyms = []\n",
        "for syn in wn.synsets('good'):\n",
        "  for lemma in syn.lemmas():\n",
        "    if lemma.antonyms():\n",
        "      antonyms.append(lemma.antonyms()[0].name())"
      ],
      "metadata": {
        "id": "-A-0_72zug1u"
      },
      "execution_count": null,
      "outputs": []
    },
    {
      "cell_type": "code",
      "source": [
        "antonyms"
      ],
      "metadata": {
        "colab": {
          "base_uri": "https://localhost:8080/"
        },
        "id": "W_PKJ1NvvFkK",
        "outputId": "00add78a-fbdd-4eb9-dee8-43b542944c48"
      },
      "execution_count": null,
      "outputs": [
        {
          "output_type": "execute_result",
          "data": {
            "text/plain": [
              "['evil', 'evilness', 'bad', 'badness', 'bad', 'evil', 'ill']"
            ]
          },
          "metadata": {},
          "execution_count": 59
        }
      ]
    },
    {
      "cell_type": "code",
      "source": [
        "## Hypernime\n",
        "wn.synsets('car')"
      ],
      "metadata": {
        "colab": {
          "base_uri": "https://localhost:8080/"
        },
        "id": "GZjqdqi-vGii",
        "outputId": "991fddea-3f7a-4cb4-a9df-660b68a605df"
      },
      "execution_count": null,
      "outputs": [
        {
          "output_type": "execute_result",
          "data": {
            "text/plain": [
              "[Synset('car.n.01'),\n",
              " Synset('car.n.02'),\n",
              " Synset('car.n.03'),\n",
              " Synset('car.n.04'),\n",
              " Synset('cable_car.n.01')]"
            ]
          },
          "metadata": {},
          "execution_count": 60
        }
      ]
    },
    {
      "cell_type": "code",
      "source": [
        "wn.synsets('car')[0].hypernyms()"
      ],
      "metadata": {
        "colab": {
          "base_uri": "https://localhost:8080/"
        },
        "id": "uZj-k7bhvXQD",
        "outputId": "5ee7f0fe-0df6-4b3b-cec1-8d056e8bc164"
      },
      "execution_count": null,
      "outputs": [
        {
          "output_type": "execute_result",
          "data": {
            "text/plain": [
              "[Synset('motor_vehicle.n.01')]"
            ]
          },
          "metadata": {},
          "execution_count": 62
        }
      ]
    },
    {
      "cell_type": "code",
      "source": [
        "## Hyponime\n",
        "wn.synsets('car')[0].hyponyms()"
      ],
      "metadata": {
        "colab": {
          "base_uri": "https://localhost:8080/"
        },
        "id": "WmbZS7rbvdMt",
        "outputId": "9ef258f9-21a9-41c2-94a8-2ee7d5050859"
      },
      "execution_count": null,
      "outputs": [
        {
          "output_type": "execute_result",
          "data": {
            "text/plain": [
              "[Synset('sport_utility.n.01'),\n",
              " Synset('horseless_carriage.n.01'),\n",
              " Synset('ambulance.n.01'),\n",
              " Synset('roadster.n.01'),\n",
              " Synset('convertible.n.01'),\n",
              " Synset('subcompact.n.01'),\n",
              " Synset('touring_car.n.01'),\n",
              " Synset('gas_guzzler.n.01'),\n",
              " Synset('coupe.n.01'),\n",
              " Synset('pace_car.n.01'),\n",
              " Synset('beach_wagon.n.01'),\n",
              " Synset('stanley_steamer.n.01'),\n",
              " Synset('jeep.n.01'),\n",
              " Synset('electric.n.01'),\n",
              " Synset('loaner.n.02'),\n",
              " Synset('minicar.n.01'),\n",
              " Synset('compact.n.03'),\n",
              " Synset('hot_rod.n.01'),\n",
              " Synset('cruiser.n.01'),\n",
              " Synset('hatchback.n.01'),\n",
              " Synset('sedan.n.01'),\n",
              " Synset('stock_car.n.01'),\n",
              " Synset('sports_car.n.01'),\n",
              " Synset('hardtop.n.01'),\n",
              " Synset('model_t.n.01'),\n",
              " Synset('cab.n.03'),\n",
              " Synset('minivan.n.01'),\n",
              " Synset('racer.n.02'),\n",
              " Synset('limousine.n.01'),\n",
              " Synset('bus.n.04'),\n",
              " Synset('used-car.n.01')]"
            ]
          },
          "metadata": {},
          "execution_count": 63
        }
      ]
    },
    {
      "cell_type": "code",
      "source": [
        "## Meronime\n",
        "wn.synsets('car')[0].part_meronyms()"
      ],
      "metadata": {
        "colab": {
          "base_uri": "https://localhost:8080/"
        },
        "id": "2exg77gwvsQ_",
        "outputId": "47bc2c42-e99a-4592-cf7f-491f0ac6a8d3"
      },
      "execution_count": null,
      "outputs": [
        {
          "output_type": "execute_result",
          "data": {
            "text/plain": [
              "[Synset('car_mirror.n.01'),\n",
              " Synset('first_gear.n.01'),\n",
              " Synset('stabilizer_bar.n.01'),\n",
              " Synset('bumper.n.02'),\n",
              " Synset('car_door.n.01'),\n",
              " Synset('reverse.n.02'),\n",
              " Synset('car_seat.n.01'),\n",
              " Synset('high_gear.n.01'),\n",
              " Synset('window.n.02'),\n",
              " Synset('third_gear.n.01'),\n",
              " Synset('tail_fin.n.02'),\n",
              " Synset('grille.n.02'),\n",
              " Synset('running_board.n.01'),\n",
              " Synset('air_bag.n.01'),\n",
              " Synset('automobile_engine.n.01'),\n",
              " Synset('hood.n.09'),\n",
              " Synset('luggage_compartment.n.01'),\n",
              " Synset('roof.n.02'),\n",
              " Synset('auto_accessory.n.01'),\n",
              " Synset('gasoline_engine.n.01'),\n",
              " Synset('sunroof.n.01'),\n",
              " Synset('automobile_horn.n.01'),\n",
              " Synset('buffer.n.06'),\n",
              " Synset('fender.n.01'),\n",
              " Synset('glove_compartment.n.01'),\n",
              " Synset('rear_window.n.01'),\n",
              " Synset('floorboard.n.02'),\n",
              " Synset('car_window.n.01'),\n",
              " Synset('accelerator.n.01')]"
            ]
          },
          "metadata": {},
          "execution_count": 67
        }
      ]
    },
    {
      "cell_type": "code",
      "source": [
        "wn.synsets('water')[0].substance_meronyms()"
      ],
      "metadata": {
        "colab": {
          "base_uri": "https://localhost:8080/"
        },
        "id": "lkI7hv6tv6rk",
        "outputId": "7b20fb87-7299-4165-ed2e-5eab85f466dc"
      },
      "execution_count": null,
      "outputs": [
        {
          "output_type": "execute_result",
          "data": {
            "text/plain": [
              "[Synset('oxygen.n.01'), Synset('hydrogen.n.01')]"
            ]
          },
          "metadata": {},
          "execution_count": 65
        }
      ]
    },
    {
      "cell_type": "code",
      "source": [
        "## Holonime\n",
        "airbag = wn.synsets('air_bag')\n",
        "airbag[0].part_holonyms()"
      ],
      "metadata": {
        "colab": {
          "base_uri": "https://localhost:8080/"
        },
        "id": "jwVXOqwswGIE",
        "outputId": "68c3ac75-c582-4321-eb39-d9176e95447f"
      },
      "execution_count": null,
      "outputs": [
        {
          "output_type": "execute_result",
          "data": {
            "text/plain": [
              "[Synset('car.n.01')]"
            ]
          },
          "metadata": {},
          "execution_count": 70
        }
      ]
    },
    {
      "cell_type": "code",
      "source": [
        "car = wn.synset('car.n.01')\n",
        "machine = wn.synset('machine.n.01')\n",
        "\n",
        "car.wup_similarity(machine)"
      ],
      "metadata": {
        "colab": {
          "base_uri": "https://localhost:8080/"
        },
        "id": "tna62DdswY1e",
        "outputId": "25a90c46-81ef-4675-c78f-715bbd011772"
      },
      "execution_count": null,
      "outputs": [
        {
          "output_type": "execute_result",
          "data": {
            "text/plain": [
              "0.631578947368421"
            ]
          },
          "metadata": {},
          "execution_count": 87
        }
      ]
    },
    {
      "cell_type": "code",
      "source": [
        "car"
      ],
      "metadata": {
        "colab": {
          "base_uri": "https://localhost:8080/"
        },
        "id": "CfbIs_w5wwwW",
        "outputId": "4730a6e0-3e54-427d-e145-2394ee3d39c0"
      },
      "execution_count": null,
      "outputs": [
        {
          "output_type": "execute_result",
          "data": {
            "text/plain": [
              "Synset('car.n.01')"
            ]
          },
          "metadata": {},
          "execution_count": 74
        }
      ]
    },
    {
      "cell_type": "code",
      "source": [
        "machine"
      ],
      "metadata": {
        "colab": {
          "base_uri": "https://localhost:8080/"
        },
        "id": "V_Hj6H2nw_PK",
        "outputId": "d95646b3-356c-44b3-8807-93c6658815ee"
      },
      "execution_count": null,
      "outputs": [
        {
          "output_type": "execute_result",
          "data": {
            "text/plain": [
              "Synset('machine.n.01')"
            ]
          },
          "metadata": {},
          "execution_count": 86
        }
      ]
    },
    {
      "cell_type": "code",
      "source": [],
      "metadata": {
        "id": "78TzLd6xxAkx"
      },
      "execution_count": null,
      "outputs": []
    }
  ]
}